{
 "cells": [
  {
   "cell_type": "markdown",
   "id": "7aced558-fc73-4a3f-aa71-af6406c69d88",
   "metadata": {},
   "source": [
    "# Simple function returning a value"
   ]
  },
  {
   "cell_type": "code",
   "execution_count": 17,
   "id": "373f81ee-656b-45ed-adaa-fc7f835c812e",
   "metadata": {},
   "outputs": [
    {
     "data": {
      "text/plain": [
       "'Hello, Apoorva!'"
      ]
     },
     "execution_count": 17,
     "metadata": {},
     "output_type": "execute_result"
    }
   ],
   "source": [
    "def get_greeting(name):\n",
    "    return f\"Hello, {name}!\"\n",
    "get_greeting('Apoorva')"
   ]
  },
  {
   "cell_type": "markdown",
   "id": "18d6d12a-ad0a-4275-b1d2-1a737b5b3603",
   "metadata": {},
   "source": [
    "# Functions with multiple arguments"
   ]
  },
  {
   "cell_type": "code",
   "execution_count": 18,
   "id": "be525240-89b0-4741-a995-0e62e4de2330",
   "metadata": {},
   "outputs": [
    {
     "name": "stdout",
     "output_type": "stream",
     "text": [
      "Apoorva Apoorva\n",
      "Apoorva A Apoorva\n"
     ]
    }
   ],
   "source": [
    "def get_full_name(first, last, middle=''):\n",
    "    if middle:\n",
    "        return f\"{first} {middle} {last}\"\n",
    "    else:\n",
    "        return f\"{first} {last}\"\n",
    "print(get_full_name('Apoorva','Apoorva'))\n",
    "print(get_full_name('Apoorva','Apoorva','A'))"
   ]
  },
  {
   "cell_type": "markdown",
   "id": "a528208a-23bb-4c37-8ed1-a8edd86bd181",
   "metadata": {},
   "source": [
    "# Function with no defaut values if empty"
   ]
  },
  {
   "cell_type": "code",
   "execution_count": 19,
   "id": "bd91f4b4-ddd7-40c8-a99f-b069493e6468",
   "metadata": {},
   "outputs": [
    {
     "name": "stdout",
     "output_type": "stream",
     "text": [
      "I have a cat.\n",
      "My cat's name is Fluffy.\n"
     ]
    }
   ],
   "source": [
    "def describe_pet(pet_name, animal_type):\n",
    "    print(f\"I have a {animal_type}.\")\n",
    "    print(f\"My {animal_type}'s name is {pet_name.title()}.\")\n",
    "\n",
    "describe_pet('fluffy','cat')"
   ]
  },
  {
   "cell_type": "markdown",
   "id": "ae62f5d1-c920-4d8d-a28a-49e2da860162",
   "metadata": {},
   "source": [
    "# Function with defaut values if empty"
   ]
  },
  {
   "cell_type": "code",
   "execution_count": 4,
   "id": "c6640a7f-b057-4c86-8049-81c1b068320d",
   "metadata": {},
   "outputs": [],
   "source": [
    "def describe_pet(pet_name, animal_type='dog'):\n",
    "    print(f\"I have a {animal_type}.\")\n",
    "    print(f\"My {animal_type}'s name is {pet_name.title()}.\")\n"
   ]
  },
  {
   "cell_type": "code",
   "execution_count": null,
   "id": "aa9b3d35-88c6-4172-8f44-641782115599",
   "metadata": {},
   "outputs": [
    {
     "name": "stdout",
     "output_type": "stream",
     "text": [
      "I have a dog.\n",
      "My dog's name is Bruno.\n",
      "I have a cat.\n",
      "My cat's name is Fluffy.\n"
     ]
    }
   ],
   "source": [
    "describe_pet('bruno')\n",
    "describe_pet('fluffy','cat')"
   ]
  },
  {
   "cell_type": "markdown",
   "id": "9dd3cba5-3cfc-4f82-bb6d-cb2cd4cb5b1d",
   "metadata": {},
   "source": [
    "# Positional arguments"
   ]
  },
  {
   "cell_type": "code",
   "execution_count": 6,
   "id": "ca5b246d-818e-4a60-aefe-ae77d89388d1",
   "metadata": {},
   "outputs": [
    {
     "name": "stdout",
     "output_type": "stream",
     "text": [
      "I have a dog.\n",
      "My dog's name is Bruno.\n",
      "I have a hamster.\n",
      "My hamster's name is Bruno.\n"
     ]
    }
   ],
   "source": [
    "describe_pet('bruno')\n",
    "describe_pet('bruno','hamster')"
   ]
  },
  {
   "cell_type": "markdown",
   "id": "58a13efb-e3bc-4e23-bd96-4cf5d153efec",
   "metadata": {},
   "source": [
    "# Function with keyword argument"
   ]
  },
  {
   "cell_type": "code",
   "execution_count": 7,
   "id": "75df93fe-533d-4731-a8f2-45f775aca973",
   "metadata": {},
   "outputs": [
    {
     "name": "stdout",
     "output_type": "stream",
     "text": [
      "I have a dog.\n",
      "My dog's name is Bruno.\n",
      "I have a dog.\n",
      "My dog's name is Harry.\n"
     ]
    }
   ],
   "source": [
    "describe_pet(pet_name='bruno',animal_type='dog')\n",
    "describe_pet(pet_name = 'harry')"
   ]
  },
  {
   "cell_type": "markdown",
   "id": "6842882c-2272-4036-9076-70ca232f2bc6",
   "metadata": {},
   "source": [
    "# Returning a Dictionary"
   ]
  },
  {
   "cell_type": "code",
   "execution_count": 26,
   "id": "08edb9ad-02d9-4791-bea4-112fa0eddfbb",
   "metadata": {},
   "outputs": [
    {
     "data": {
      "text/plain": [
       "{'first': 'Apoorva', 'last': 'Apoorva'}"
      ]
     },
     "execution_count": 26,
     "metadata": {},
     "output_type": "execute_result"
    }
   ],
   "source": [
    "def build_person(first, last):\n",
    "    return {'first': first, 'last': last}\n",
    "build_person('Apoorva','Apoorva')"
   ]
  },
  {
   "cell_type": "markdown",
   "id": "81a04e6b-fce5-452e-82b1-89b7f72c81a9",
   "metadata": {},
   "source": [
    "# Passing a List"
   ]
  },
  {
   "cell_type": "code",
   "execution_count": 27,
   "id": "ec04cf05-771d-4bde-8277-c445931d65dd",
   "metadata": {},
   "outputs": [
    {
     "name": "stdout",
     "output_type": "stream",
     "text": [
      "Hello, Apoorva!\n",
      "Hello, Ved!\n"
     ]
    }
   ],
   "source": [
    "def greet_users(names):\n",
    "    for name in names:\n",
    "        print(f\"Hello, {name}!\")\n",
    "n = ['Apoorva','Ved']\n",
    "greet_users(n)"
   ]
  },
  {
   "cell_type": "markdown",
   "id": "fbc6b038-6cdf-4857-867d-3c17eb553061",
   "metadata": {},
   "source": [
    "# Modifying a List Inside the Function"
   ]
  },
  {
   "cell_type": "code",
   "execution_count": 10,
   "id": "d3d46700-ca60-427b-8d14-9361ba1c0473",
   "metadata": {},
   "outputs": [
    {
     "name": "stdout",
     "output_type": "stream",
     "text": [
      "Before function call: ['item1', 'item2']\n",
      "Inside function (before): ['item1', 'item2']\n",
      "Inside function (after): ['item1', 'item2', 'new_item']\n",
      "After function call: ['item1', 'item2', 'new_item']\n"
     ]
    }
   ],
   "source": [
    "def modify_list(my_list):\n",
    "    print(\"Inside function (before):\", my_list)\n",
    "    my_list.append(\"new_item\")\n",
    "    print(\"Inside function (after):\", my_list)\n",
    "\n",
    "items = [\"item1\", \"item2\"]\n",
    "print(\"Before function call:\", items)\n",
    "\n",
    "modify_list(items)\n",
    "\n",
    "print(\"After function call:\", items)\n"
   ]
  },
  {
   "cell_type": "markdown",
   "id": "718805e3-c16f-4153-a736-ffc39b0d01b2",
   "metadata": {},
   "source": [
    "# Protecting a List from Updates"
   ]
  },
  {
   "cell_type": "code",
   "execution_count": 11,
   "id": "4c5e6f4e-88df-4998-9fae-465d9137aba9",
   "metadata": {},
   "outputs": [
    {
     "name": "stdout",
     "output_type": "stream",
     "text": [
      "Before function call: ['item1', 'item2']\n",
      "Inside function (before): ['item1', 'item2']\n",
      "Inside function (after): ['item1', 'item2', 'new_item']\n",
      "After function call: ['item1', 'item2']\n"
     ]
    }
   ],
   "source": [
    "def modify_list(my_list):\n",
    "    print(\"Inside function (before):\", my_list)\n",
    "    my_list.append(\"new_item\")\n",
    "    print(\"Inside function (after):\", my_list)\n",
    "\n",
    "items = [\"item1\", \"item2\"]\n",
    "print(\"Before function call:\", items)\n",
    "\n",
    "modify_list(items[:])  # Pass a copy\n",
    "\n",
    "print(\"After function call:\", items)\n"
   ]
  },
  {
   "cell_type": "markdown",
   "id": "1d181f93-e454-4686-8b10-df1bbdafeac8",
   "metadata": {},
   "source": [
    "# Passing an Arbitrary Number of Arguments"
   ]
  },
  {
   "cell_type": "code",
   "execution_count": 12,
   "id": "48f8e706-8618-40e3-ba2e-45cd801cbba0",
   "metadata": {},
   "outputs": [
    {
     "name": "stdout",
     "output_type": "stream",
     "text": [
      "- pepperoni\n",
      "- pineapple\n",
      "- onions\n"
     ]
    }
   ],
   "source": [
    "def make_pizza(*toppings):\n",
    "    for topping in toppings:\n",
    "        print(f\"- {topping}\")\n",
    "\n",
    "# Function call\n",
    "make_pizza('pepperoni', 'pineapple', 'onions')\n"
   ]
  },
  {
   "cell_type": "markdown",
   "id": "542171c5-3a54-43ea-a880-5f3da52c2a78",
   "metadata": {},
   "source": [
    "# Mixing Positional and Arbitrary Arguments"
   ]
  },
  {
   "cell_type": "code",
   "execution_count": 13,
   "id": "a00c7d45-a498-4a8c-8023-855e7723719b",
   "metadata": {},
   "outputs": [
    {
     "name": "stdout",
     "output_type": "stream",
     "text": [
      "Making a 12-inch pizza with:\n",
      "- extra cheese\n",
      "- tomato\n",
      "- onions\n"
     ]
    }
   ],
   "source": [
    "def make_pizza(size, *toppings):\n",
    "    print(f\"Making a {size}-inch pizza with:\")\n",
    "    for topping in toppings:\n",
    "        print(f\"- {topping}\")\n",
    "\n",
    "# Function call\n",
    "make_pizza(12, 'extra cheese', 'tomato', 'onions')\n"
   ]
  },
  {
   "cell_type": "code",
   "execution_count": 28,
   "id": "05fc6b81-ea10-4cc6-bbab-2ca9f4f1bd5c",
   "metadata": {},
   "outputs": [
    {
     "name": "stdout",
     "output_type": "stream",
     "text": [
      "{'first': 'Apoorva', 'last': 'Apoorva', 'location': 'India', 'field': 'Computer Science', 'year': '2027'}\n"
     ]
    }
   ],
   "source": [
    "def build_profile(first, last, **info):\n",
    "    profile = {'first': first, 'last': last}\n",
    "    profile.update(info)\n",
    "    return profile\n",
    "\n",
    "# Function call\n",
    "user_profile = build_profile('Apoorva', 'Apoorva', location='India', field='Computer Science', year='2027')\n",
    "print(user_profile)\n"
   ]
  },
  {
   "cell_type": "markdown",
   "id": "041ac0e1-33d8-41d5-a7be-6a92100ceed1",
   "metadata": {},
   "source": [
    "# Storing Your Functions in Modules"
   ]
  },
  {
   "cell_type": "code",
   "execution_count": 15,
   "id": "348c00f8-8b9e-4800-b733-c6e0025ed1dc",
   "metadata": {},
   "outputs": [
    {
     "name": "stdout",
     "output_type": "stream",
     "text": [
      "Collecting import-ipynb\n",
      "  Downloading import_ipynb-0.2-py3-none-any.whl.metadata (2.3 kB)\n",
      "Requirement already satisfied: IPython in c:\\users\\lenovo\\appdata\\local\\programs\\python\\python310\\lib\\site-packages (from import-ipynb) (8.32.0)\n",
      "Requirement already satisfied: nbformat in c:\\users\\lenovo\\appdata\\local\\programs\\python\\python310\\lib\\site-packages (from import-ipynb) (5.10.4)\n",
      "Requirement already satisfied: colorama in c:\\users\\lenovo\\appdata\\local\\programs\\python\\python310\\lib\\site-packages (from IPython->import-ipynb) (0.4.6)\n",
      "Requirement already satisfied: decorator in c:\\users\\lenovo\\appdata\\local\\programs\\python\\python310\\lib\\site-packages (from IPython->import-ipynb) (5.1.1)\n",
      "Requirement already satisfied: exceptiongroup in c:\\users\\lenovo\\appdata\\local\\programs\\python\\python310\\lib\\site-packages (from IPython->import-ipynb) (1.2.2)\n",
      "Requirement already satisfied: jedi>=0.16 in c:\\users\\lenovo\\appdata\\local\\programs\\python\\python310\\lib\\site-packages (from IPython->import-ipynb) (0.19.2)\n",
      "Requirement already satisfied: matplotlib-inline in c:\\users\\lenovo\\appdata\\local\\programs\\python\\python310\\lib\\site-packages (from IPython->import-ipynb) (0.1.7)\n",
      "Requirement already satisfied: prompt_toolkit<3.1.0,>=3.0.41 in c:\\users\\lenovo\\appdata\\local\\programs\\python\\python310\\lib\\site-packages (from IPython->import-ipynb) (3.0.50)\n",
      "Requirement already satisfied: pygments>=2.4.0 in c:\\users\\lenovo\\appdata\\local\\programs\\python\\python310\\lib\\site-packages (from IPython->import-ipynb) (2.19.1)\n",
      "Requirement already satisfied: stack_data in c:\\users\\lenovo\\appdata\\local\\programs\\python\\python310\\lib\\site-packages (from IPython->import-ipynb) (0.6.3)\n",
      "Requirement already satisfied: traitlets>=5.13.0 in c:\\users\\lenovo\\appdata\\local\\programs\\python\\python310\\lib\\site-packages (from IPython->import-ipynb) (5.14.3)\n",
      "Requirement already satisfied: typing_extensions>=4.6 in c:\\users\\lenovo\\appdata\\local\\programs\\python\\python310\\lib\\site-packages (from IPython->import-ipynb) (4.12.2)\n",
      "Requirement already satisfied: fastjsonschema>=2.15 in c:\\users\\lenovo\\appdata\\local\\programs\\python\\python310\\lib\\site-packages (from nbformat->import-ipynb) (2.21.1)\n",
      "Requirement already satisfied: jsonschema>=2.6 in c:\\users\\lenovo\\appdata\\local\\programs\\python\\python310\\lib\\site-packages (from nbformat->import-ipynb) (4.23.0)\n",
      "Requirement already satisfied: jupyter-core!=5.0.*,>=4.12 in c:\\users\\lenovo\\appdata\\local\\programs\\python\\python310\\lib\\site-packages (from nbformat->import-ipynb) (5.7.2)\n",
      "Requirement already satisfied: parso<0.9.0,>=0.8.4 in c:\\users\\lenovo\\appdata\\local\\programs\\python\\python310\\lib\\site-packages (from jedi>=0.16->IPython->import-ipynb) (0.8.4)\n",
      "Requirement already satisfied: attrs>=22.2.0 in c:\\users\\lenovo\\appdata\\local\\programs\\python\\python310\\lib\\site-packages (from jsonschema>=2.6->nbformat->import-ipynb) (25.1.0)\n",
      "Requirement already satisfied: jsonschema-specifications>=2023.03.6 in c:\\users\\lenovo\\appdata\\local\\programs\\python\\python310\\lib\\site-packages (from jsonschema>=2.6->nbformat->import-ipynb) (2024.10.1)\n",
      "Requirement already satisfied: referencing>=0.28.4 in c:\\users\\lenovo\\appdata\\local\\programs\\python\\python310\\lib\\site-packages (from jsonschema>=2.6->nbformat->import-ipynb) (0.36.2)\n",
      "Requirement already satisfied: rpds-py>=0.7.1 in c:\\users\\lenovo\\appdata\\local\\programs\\python\\python310\\lib\\site-packages (from jsonschema>=2.6->nbformat->import-ipynb) (0.22.3)\n",
      "Requirement already satisfied: platformdirs>=2.5 in c:\\users\\lenovo\\appdata\\local\\programs\\python\\python310\\lib\\site-packages (from jupyter-core!=5.0.*,>=4.12->nbformat->import-ipynb) (4.3.6)\n",
      "Requirement already satisfied: pywin32>=300 in c:\\users\\lenovo\\appdata\\local\\programs\\python\\python310\\lib\\site-packages (from jupyter-core!=5.0.*,>=4.12->nbformat->import-ipynb) (308)\n",
      "Requirement already satisfied: wcwidth in c:\\users\\lenovo\\appdata\\local\\programs\\python\\python310\\lib\\site-packages (from prompt_toolkit<3.1.0,>=3.0.41->IPython->import-ipynb) (0.2.13)\n",
      "Requirement already satisfied: executing>=1.2.0 in c:\\users\\lenovo\\appdata\\local\\programs\\python\\python310\\lib\\site-packages (from stack_data->IPython->import-ipynb) (2.2.0)\n",
      "Requirement already satisfied: asttokens>=2.1.0 in c:\\users\\lenovo\\appdata\\local\\programs\\python\\python310\\lib\\site-packages (from stack_data->IPython->import-ipynb) (3.0.0)\n",
      "Requirement already satisfied: pure-eval in c:\\users\\lenovo\\appdata\\local\\programs\\python\\python310\\lib\\site-packages (from stack_data->IPython->import-ipynb) (0.2.3)\n",
      "Downloading import_ipynb-0.2-py3-none-any.whl (4.0 kB)\n",
      "Installing collected packages: import-ipynb\n",
      "Successfully installed import-ipynb-0.2\n"
     ]
    },
    {
     "name": "stderr",
     "output_type": "stream",
     "text": [
      "\n",
      "[notice] A new release of pip is available: 24.2 -> 25.2\n",
      "[notice] To update, run: python.exe -m pip install --upgrade pip\n"
     ]
    }
   ],
   "source": [
    "#!pip install nbimporter\n",
    "# !pip install nbimporter --quiet\n",
    "# !python -m pip install --upgrade pip\n",
    "!pip install import-ipynb\n"
   ]
  },
  {
   "cell_type": "code",
   "execution_count": 16,
   "id": "664a3da3-2c36-4537-af6e-8f137020a2c0",
   "metadata": {},
   "outputs": [
    {
     "ename": "ModuleNotFoundError",
     "evalue": "No module named 'pets'",
     "output_type": "error",
     "traceback": [
      "\u001b[1;31m---------------------------------------------------------------------------\u001b[0m",
      "\u001b[1;31mModuleNotFoundError\u001b[0m                       Traceback (most recent call last)",
      "Cell \u001b[1;32mIn[16], line 2\u001b[0m\n\u001b[0;32m      1\u001b[0m \u001b[38;5;28;01mimport\u001b[39;00m\u001b[38;5;250m \u001b[39m\u001b[38;5;21;01mimport_ipynb\u001b[39;00m\n\u001b[1;32m----> 2\u001b[0m \u001b[38;5;28;01mimport\u001b[39;00m\u001b[38;5;250m \u001b[39m\u001b[38;5;21;01mpets\u001b[39;00m  \u001b[38;5;66;03m# name of the notebook (without .ipynb)\u001b[39;00m\n\u001b[0;32m      4\u001b[0m pets\u001b[38;5;241m.\u001b[39mdescribe_my_pet(\u001b[38;5;124m'\u001b[39m\u001b[38;5;124mmars\u001b[39m\u001b[38;5;124m'\u001b[39m)\u001b[38;5;66;03m# Call the function\u001b[39;00m\n",
      "\u001b[1;31mModuleNotFoundError\u001b[0m: No module named 'pets'"
     ]
    }
   ],
   "source": [
    "import import_ipynb\n",
    "import pets  # name of the notebook (without .ipynb)\n",
    "\n",
    "pets.describe_my_pet('mars')# Call the function"
   ]
  },
  {
   "cell_type": "markdown",
   "id": "22e6a5f1-8144-4716-9b9f-8443874aa1fd",
   "metadata": {},
   "source": [
    "# Importing Specific Functions"
   ]
  },
  {
   "cell_type": "code",
   "execution_count": null,
   "id": "70634799-f1ed-4f33-90c0-92c03c34268d",
   "metadata": {},
   "outputs": [
    {
     "name": "stdout",
     "output_type": "stream",
     "text": [
      "Hello there\n"
     ]
    }
   ],
   "source": [
    "from pets import print_hello\n",
    "print_hello()"
   ]
  },
  {
   "cell_type": "markdown",
   "id": "5a1add52-a0a1-46fe-a012-b291c69fc965",
   "metadata": {},
   "source": [
    "# Function Alias using as"
   ]
  },
  {
   "cell_type": "code",
   "execution_count": null,
   "id": "6d97ed95-5efa-4203-b0a4-2b6f16808542",
   "metadata": {},
   "outputs": [
    {
     "name": "stdout",
     "output_type": "stream",
     "text": [
      "I have a dog.\n",
      "My dog's name is Bruno.\n"
     ]
    }
   ],
   "source": [
    "from pets import describe_my_pet as dp\n",
    "dp('bruno')\n"
   ]
  },
  {
   "cell_type": "markdown",
   "id": "71a949bc-c8ed-4204-914b-5174a409cfff",
   "metadata": {},
   "source": [
    "# Module Alias using as"
   ]
  },
  {
   "cell_type": "code",
   "execution_count": null,
   "id": "a605d54d-c07a-4de0-bae8-13ed97c7642c",
   "metadata": {},
   "outputs": [
    {
     "name": "stdout",
     "output_type": "stream",
     "text": [
      "I have a dog.\n",
      "My dog's name is Bruno.\n"
     ]
    }
   ],
   "source": [
    "import pets as pt\n",
    "pt.describe_my_pet('bruno')\n"
   ]
  },
  {
   "cell_type": "markdown",
   "id": "2e4744cb-2e13-42a2-9120-b7163fa00be9",
   "metadata": {},
   "source": [
    "# Importing All Functions"
   ]
  },
  {
   "cell_type": "code",
   "execution_count": 29,
   "id": "a5309fab-13bd-48bd-9510-892b89d14793",
   "metadata": {},
   "outputs": [
    {
     "ename": "ModuleNotFoundError",
     "evalue": "No module named 'pets'",
     "output_type": "error",
     "traceback": [
      "\u001b[1;31m---------------------------------------------------------------------------\u001b[0m",
      "\u001b[1;31mModuleNotFoundError\u001b[0m                       Traceback (most recent call last)",
      "Cell \u001b[1;32mIn[29], line 1\u001b[0m\n\u001b[1;32m----> 1\u001b[0m \u001b[38;5;28;01mfrom\u001b[39;00m\u001b[38;5;250m \u001b[39m\u001b[38;5;21;01mpets\u001b[39;00m\u001b[38;5;250m \u001b[39m\u001b[38;5;28;01mimport\u001b[39;00m \u001b[38;5;241m*\u001b[39m\n",
      "\u001b[1;31mModuleNotFoundError\u001b[0m: No module named 'pets'"
     ]
    }
   ],
   "source": [
    "from pets import *"
   ]
  },
  {
   "cell_type": "code",
   "execution_count": null,
   "id": "ebaefc9c-db32-4f2c-8d9e-9fde35a892e0",
   "metadata": {},
   "outputs": [],
   "source": []
  }
 ],
 "metadata": {
  "kernelspec": {
   "display_name": "Python 3",
   "language": "python",
   "name": "python3"
  },
  "language_info": {
   "codemirror_mode": {
    "name": "ipython",
    "version": 3
   },
   "file_extension": ".py",
   "mimetype": "text/x-python",
   "name": "python",
   "nbconvert_exporter": "python",
   "pygments_lexer": "ipython3",
   "version": "3.10.7"
  }
 },
 "nbformat": 4,
 "nbformat_minor": 5
}
