{
 "cells": [
  {
   "cell_type": "markdown",
   "id": "d9ee9638-c134-4204-bef9-f0dedacc34bd",
   "metadata": {},
   "source": [
    "# LAB-2"
   ]
  },
  {
   "cell_type": "code",
   "execution_count": 2,
   "id": "18aadebe-40b9-4ef5-b4e6-5fdb5db55981",
   "metadata": {},
   "outputs": [
    {
     "name": "stdout",
     "output_type": "stream",
     "text": [
      "Requirement already satisfied: jieba in c:\\users\\lenovo\\appdata\\local\\programs\\python\\python310\\lib\\site-packages (0.42.1)\n"
     ]
    },
    {
     "name": "stderr",
     "output_type": "stream",
     "text": [
      "\n",
      "[notice] A new release of pip is available: 24.2 -> 25.2\n",
      "[notice] To update, run: python.exe -m pip install --upgrade pip\n"
     ]
    }
   ],
   "source": [
    "!pip install jieba"
   ]
  },
  {
   "cell_type": "code",
   "execution_count": 4,
   "id": "90e2de09-fa76-4566-95b1-91c406c68456",
   "metadata": {},
   "outputs": [
    {
     "name": "stdout",
     "output_type": "stream",
     "text": [
      "早上好，阿普瓦\n"
     ]
    }
   ],
   "source": [
    "with open(\"D:\\\\Apoo\\\\advPy\\\\apoo.txt\", \"r\", encoding=\"utf8\") as text:\n",
    "    data = text.read()\n",
    "    print(data)"
   ]
  },
  {
   "cell_type": "code",
   "execution_count": 5,
   "id": "ae8b92cf-e1b3-4886-a71d-607cc7a7f28f",
   "metadata": {},
   "outputs": [
    {
     "name": "stderr",
     "output_type": "stream",
     "text": [
      "Building prefix dict from the default dictionary ...\n",
      "Dumping model to file cache C:\\Users\\Lenovo\\AppData\\Local\\Temp\\jieba.cache\n",
      "Loading model cost 1.586 seconds.\n",
      "Prefix dict has been built successfully.\n"
     ]
    },
    {
     "name": "stdout",
     "output_type": "stream",
     "text": [
      "早上好/，/阿/普瓦\n"
     ]
    }
   ],
   "source": [
    "import jieba  # importing the Jieba library for Chinese word segmentation\n",
    "\n",
    "# segmenting it using Jieba's precise mode\n",
    "seg_list = jieba.cut(data, cut_all=False) \n",
    "print(\"/\".join(seg_list)) \n"
   ]
  },
  {
   "cell_type": "code",
   "execution_count": null,
   "id": "f9bb28d5-b20b-4fa3-97c4-d6aaddb16e94",
   "metadata": {},
   "outputs": [],
   "source": []
  }
 ],
 "metadata": {
  "kernelspec": {
   "display_name": "Python 3 (ipykernel)",
   "language": "python",
   "name": "python3"
  },
  "language_info": {
   "codemirror_mode": {
    "name": "ipython",
    "version": 3
   },
   "file_extension": ".py",
   "mimetype": "text/x-python",
   "name": "python",
   "nbconvert_exporter": "python",
   "pygments_lexer": "ipython3",
   "version": "3.10.7"
  }
 },
 "nbformat": 4,
 "nbformat_minor": 5
}
