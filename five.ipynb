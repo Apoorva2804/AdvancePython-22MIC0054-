{
 "cells": [
  {
   "cell_type": "markdown",
   "id": "fd93b7ee",
   "metadata": {},
   "source": [
    "List Slicing(#Off by 1 behaviour)"
   ]
  },
  {
   "cell_type": "code",
   "execution_count": 2,
   "id": "5d3da7d4",
   "metadata": {},
   "outputs": [
    {
     "data": {
      "text/plain": [
       "[1, 2]"
      ]
     },
     "execution_count": 2,
     "metadata": {},
     "output_type": "execute_result"
    }
   ],
   "source": [
    "l=[1,2,3,4,5,6,7,8,9]\n",
    "l[:2]#slicing first two elements"
   ]
  },
  {
   "cell_type": "code",
   "execution_count": null,
   "id": "8b8f78e1",
   "metadata": {},
   "outputs": [
    {
     "data": {
      "text/plain": [
       "[1, 2, 3]"
      ]
     },
     "execution_count": 3,
     "metadata": {},
     "output_type": "execute_result"
    }
   ],
   "source": [
    "l[0:3]#slicing first three elements"
   ]
  },
  {
   "cell_type": "code",
   "execution_count": null,
   "id": "afbd2733",
   "metadata": {},
   "outputs": [
    {
     "data": {
      "text/plain": [
       "[8, 9]"
      ]
     },
     "execution_count": 6,
     "metadata": {},
     "output_type": "execute_result"
    }
   ],
   "source": [
    "l[-2:]#slicing last two elements"
   ]
  },
  {
   "cell_type": "code",
   "execution_count": null,
   "id": "d5efbe89",
   "metadata": {},
   "outputs": [
    {
     "data": {
      "text/plain": [
       "[3, 4, 5, 6, 7, 8, 9]"
      ]
     },
     "execution_count": 5,
     "metadata": {},
     "output_type": "execute_result"
    }
   ],
   "source": [
    "l[2:]#slicing two to last elements"
   ]
  },
  {
   "cell_type": "markdown",
   "id": "227281d6",
   "metadata": {},
   "source": [
    "Assigning Values"
   ]
  },
  {
   "cell_type": "code",
   "execution_count": 7,
   "id": "565293a4",
   "metadata": {},
   "outputs": [
    {
     "name": "stdout",
     "output_type": "stream",
     "text": [
      "['apple', 'orange', 'banana', 'mango']\n",
      "['apple', 'orange', 'banana', 'mango']\n"
     ]
    }
   ],
   "source": [
    "l1=['apple','orange','banana','mango']\n",
    "l2=l1[:]#update with value\n",
    "print(l2)\n",
    "l3=l1#update with reference\n",
    "print(l3)"
   ]
  },
  {
   "cell_type": "code",
   "execution_count": 8,
   "id": "21ba3b50",
   "metadata": {},
   "outputs": [
    {
     "name": "stdout",
     "output_type": "stream",
     "text": [
      "['apple', 'orange', 'banana', 'mango']\n",
      "['apple', 'orange', 'banana', 'mango', 'lychee']\n"
     ]
    }
   ],
   "source": [
    "l1.append('lychee')#appending the original list\n",
    "print(l2)\n",
    "print(l3)"
   ]
  },
  {
   "cell_type": "markdown",
   "id": "8d545402",
   "metadata": {},
   "source": [
    "Looping through List"
   ]
  },
  {
   "cell_type": "code",
   "execution_count": 12,
   "id": "77ecc649",
   "metadata": {},
   "outputs": [
    {
     "name": "stdout",
     "output_type": "stream",
     "text": [
      "apple\n",
      "<built-in method title of str object at 0x000001DE89E1E2F0>\n",
      "orange\n",
      "<built-in method title of str object at 0x000001DE89E791F0>\n",
      "banana\n",
      "<built-in method title of str object at 0x000001DE89E7B630>\n"
     ]
    }
   ],
   "source": [
    "for i in l1[:3]: #looping through list\n",
    "    print(i)\n",
    "    print(i.title)"
   ]
  },
  {
   "cell_type": "markdown",
   "id": "43a9ede6",
   "metadata": {},
   "source": [
    "Assignment error"
   ]
  },
  {
   "cell_type": "code",
   "execution_count": 13,
   "id": "8e634f08",
   "metadata": {},
   "outputs": [
    {
     "name": "stdout",
     "output_type": "stream",
     "text": [
      "100\n"
     ]
    },
    {
     "ename": "TypeError",
     "evalue": "'tuple' object does not support item assignment",
     "output_type": "error",
     "traceback": [
      "\u001b[1;31m---------------------------------------------------------------------------\u001b[0m",
      "\u001b[1;31mTypeError\u001b[0m                                 Traceback (most recent call last)",
      "Cell \u001b[1;32mIn[13], line 3\u001b[0m\n\u001b[0;32m      1\u001b[0m t\u001b[38;5;241m=\u001b[39m(\u001b[38;5;241m50\u001b[39m,\u001b[38;5;241m100\u001b[39m)\n\u001b[0;32m      2\u001b[0m \u001b[38;5;28mprint\u001b[39m(t[\u001b[38;5;241m1\u001b[39m])\n\u001b[1;32m----> 3\u001b[0m \u001b[43mt\u001b[49m\u001b[43m[\u001b[49m\u001b[38;5;241;43m1\u001b[39;49m\u001b[43m]\u001b[49m\u001b[38;5;241m=\u001b[39m(\u001b[38;5;241m40\u001b[39m)\u001b[38;5;66;03m#assigning a value to tuple\u001b[39;00m\n",
      "\u001b[1;31mTypeError\u001b[0m: 'tuple' object does not support item assignment"
     ]
    }
   ],
   "source": [
    "t=(50,100)\n",
    "print(t[1])\n",
    "t[1]=(40)#assigning a value to tuple"
   ]
  },
  {
   "cell_type": "code",
   "execution_count": 14,
   "id": "7a5d803e",
   "metadata": {},
   "outputs": [
    {
     "name": "stdout",
     "output_type": "stream",
     "text": [
      "a\n",
      "<built-in method title of str object at 0x000001DE856458F0>\n",
      "b\n",
      "<built-in method title of str object at 0x000001DE8560CBB0>\n"
     ]
    }
   ],
   "source": [
    "t=('a','b','c','d')\n",
    "for i in t[:2]:#looping through tuple\n",
    "    print(i)\n",
    "    print(i.title)"
   ]
  },
  {
   "cell_type": "markdown",
   "id": "61453acf",
   "metadata": {},
   "source": [
    "Dictionary"
   ]
  },
  {
   "cell_type": "code",
   "execution_count": 18,
   "id": "c5be4bc4",
   "metadata": {},
   "outputs": [
    {
     "name": "stdout",
     "output_type": "stream",
     "text": [
      "{'reg_no': '22MIC0054', 'program': 'CSE', 'cgpa': '8', 'attendance': '85'}\n"
     ]
    },
    {
     "data": {
      "text/plain": [
       "'CSE'"
      ]
     },
     "execution_count": 18,
     "metadata": {},
     "output_type": "execute_result"
    }
   ],
   "source": [
    "Student_1={'reg_no':'22MIC0054','program':'CSE','cgpa':'8','attendance':'85'}\n",
    "print(Student_1)\n",
    "Student_1['program']"
   ]
  }
 ],
 "metadata": {
  "kernelspec": {
   "display_name": "Python 3",
   "language": "python",
   "name": "python3"
  },
  "language_info": {
   "codemirror_mode": {
    "name": "ipython",
    "version": 3
   },
   "file_extension": ".py",
   "mimetype": "text/x-python",
   "name": "python",
   "nbconvert_exporter": "python",
   "pygments_lexer": "ipython3",
   "version": "3.10.7"
  }
 },
 "nbformat": 4,
 "nbformat_minor": 5
}
