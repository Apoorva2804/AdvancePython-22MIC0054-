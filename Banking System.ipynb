{
 "cells": [
  {
   "cell_type": "code",
   "execution_count": 1,
   "id": "f2ea332e-b71d-4cca-89d5-3fdf4f80cf97",
   "metadata": {},
   "outputs": [
    {
     "name": "stdout",
     "output_type": "stream",
     "text": [
      "🔁 All Customers in the System:\n",
      "ID: C001, Name: Alice, Age: 30, Total Balance: 5700\n",
      "ID: C002, Name: Bob, Age: 25, Total Balance: 5300\n",
      "ID: C003, Name: Charlie, Age: 35, Total Balance: 5500\n"
     ]
    },
    {
     "name": "stdin",
     "output_type": "stream",
     "text": [
      "Enter new customer ID (e.g., C004):  C004\n",
      "Enter customer name:  Apoorva\n",
      "Enter customer age:  21\n",
      "Enter initial transactions (space separated):  800 -790 1000\n"
     ]
    },
    {
     "name": "stdout",
     "output_type": "stream",
     "text": [
      "✅ Customer C004 added.\n",
      "\n"
     ]
    },
    {
     "name": "stdin",
     "output_type": "stream",
     "text": [
      "Enter new customer ID (e.g., C004):  C005\n",
      "Enter customer name:  Arnav\n",
      "Enter customer age:  30\n",
      "Enter initial transactions (space separated):  5000 -500 1000\n"
     ]
    },
    {
     "name": "stdout",
     "output_type": "stream",
     "text": [
      "✅ Customer C005 added.\n",
      "\n"
     ]
    },
    {
     "name": "stdin",
     "output_type": "stream",
     "text": [
      "Enter customer ID to view:  C010\n"
     ]
    },
    {
     "name": "stdout",
     "output_type": "stream",
     "text": [
      "⚠️ Customer not found.\n",
      "\n",
      "\n",
      "📋 Last 5 entries in the banking system:\n",
      "ID: C001, Name: Alice, Age: 30\n",
      "ID: C002, Name: Bob, Age: 25\n",
      "ID: C003, Name: Charlie, Age: 35\n",
      "ID: C004, Name: Apoorva, Age: 21\n",
      "ID: C005, Name: Arnav, Age: 30\n"
     ]
    }
   ],
   "source": [
    "# Banking system with nested dictionary & list\n",
    "bank_data = {\n",
    "    'C001': {\n",
    "        'name': 'Alice',\n",
    "        'age': 30,\n",
    "        'transactions': [5000, -1500, 2200],\n",
    "    },\n",
    "    'C002': {\n",
    "        'name': 'Bob',\n",
    "        'age': 25,\n",
    "        'transactions': [7000, -2000, 300],\n",
    "    },\n",
    "    'C003': {\n",
    "        'name': 'Charlie',\n",
    "        'age': 35,\n",
    "        'transactions': [10000, -500, -4000],\n",
    "    },\n",
    "}\n",
    "\n",
    "# Function to add new customer\n",
    "def add_customer():\n",
    "    cid = input(\"Enter new customer ID (e.g., C004): \")\n",
    "    name = input(\"Enter customer name: \")\n",
    "    age = int(input(\"Enter customer age: \"))\n",
    "    transactions = list(map(int, input(\"Enter initial transactions (space separated): \").split()))\n",
    "    bank_data[cid] = {\n",
    "        'name': name,\n",
    "        'age': age,\n",
    "        'transactions': transactions\n",
    "    }\n",
    "    print(f\"✅ Customer {cid} added.\\n\")\n",
    "\n",
    "# Function to view specific customer using .get()\n",
    "def view_customer():\n",
    "    cid = input(\"Enter customer ID to view: \")\n",
    "    data = bank_data.get(cid)  # does not throw error if key not found\n",
    "    if data:\n",
    "        print(f\"\\nCustomer ID: {cid}\")\n",
    "        print(f\"Name: {data.get('name', 'N/A')}\")\n",
    "        print(f\"Age: {data.get('age', 'N/A')}\")\n",
    "        print(f\"Transactions: {data.get('transactions', [])}\")\n",
    "    else:\n",
    "        print(\"⚠️ Customer not found.\\n\")\n",
    "\n",
    "# Function to print last 5 added customers using sequence unpacking\n",
    "def show_last_five_entries():\n",
    "    print(\"\\n📋 Last 5 entries in the banking system:\")\n",
    "    items = list(bank_data.items())[-5:]  # get last 5 (or fewer if less entries)\n",
    "    for cid, info in items:\n",
    "        print(f\"ID: {cid}, Name: {info.get('name', 'N/A')}, Age: {info.get('age', 'N/A')}\")\n",
    "\n",
    "# Looping through customers\n",
    "print(\"🔁 All Customers in the System:\")\n",
    "for cid, info in bank_data.items():\n",
    "    name, age, txns = info.get('name'), info.get('age'), info.get('transactions', [])\n",
    "    print(f\"ID: {cid}, Name: {name}, Age: {age}, Total Balance: {sum(txns)}\")\n",
    "\n",
    "# Add new customers (2 for demo)\n",
    "for _ in range(2):\n",
    "    add_customer()\n",
    "\n",
    "# View a specific customer\n",
    "view_customer()\n",
    "\n",
    "# Show last 5 entries with unpacking\n",
    "show_last_five_entries()\n"
   ]
  },
  {
   "cell_type": "code",
   "execution_count": null,
   "id": "d3846054-e951-4f0b-810b-d9927ae4904b",
   "metadata": {},
   "outputs": [],
   "source": []
  }
 ],
 "metadata": {
  "kernelspec": {
   "display_name": "Python 3 (ipykernel)",
   "language": "python",
   "name": "python3"
  },
  "language_info": {
   "codemirror_mode": {
    "name": "ipython",
    "version": 3
   },
   "file_extension": ".py",
   "mimetype": "text/x-python",
   "name": "python",
   "nbconvert_exporter": "python",
   "pygments_lexer": "ipython3",
   "version": "3.10.7"
  }
 },
 "nbformat": 4,
 "nbformat_minor": 5
}
