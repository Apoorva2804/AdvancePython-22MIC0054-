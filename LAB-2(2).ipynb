{
 "cells": [
  {
   "cell_type": "markdown",
   "id": "f9b2f041-3a11-40b5-8012-c1ea60fc22bb",
   "metadata": {},
   "source": [
    "# LAB-2"
   ]
  },
  {
   "cell_type": "code",
   "execution_count": 1,
   "id": "5b3ea530-ae20-4944-b862-e527199933e1",
   "metadata": {},
   "outputs": [
    {
     "name": "stdout",
     "output_type": "stream",
     "text": [
      "hello'apoo'hello\n"
     ]
    }
   ],
   "source": [
    "print(\"hello'apoo'hello\")"
   ]
  },
  {
   "cell_type": "code",
   "execution_count": 2,
   "id": "52298ce4-dc2c-4ffa-b532-c31126a9d976",
   "metadata": {},
   "outputs": [
    {
     "name": "stdout",
     "output_type": "stream",
     "text": [
      " \"\"\"Triple inside single\"\"\"\n"
     ]
    }
   ],
   "source": [
    "print(' \"\"\"Triple inside single\"\"\"')"
   ]
  },
  {
   "cell_type": "code",
   "execution_count": 3,
   "id": "b3c98c29-8f28-4e2e-b9d6-44cdfccb50f7",
   "metadata": {},
   "outputs": [
    {
     "name": "stdout",
     "output_type": "stream",
     "text": [
      " 'Apoorva' \n",
      " \"Double inside Triple\" \n"
     ]
    }
   ],
   "source": [
    "print(''' 'Apoorva' ''')\n",
    "print(\"\"\" \"Double inside Triple\" \"\"\") "
   ]
  },
  {
   "cell_type": "code",
   "execution_count": 4,
   "id": "a8c19a92-6de1-4351-afc0-a3c0c4ade9f1",
   "metadata": {},
   "outputs": [
    {
     "name": "stdout",
     "output_type": "stream",
     "text": [
      "Hi there this is,APOORVA\n"
     ]
    }
   ],
   "source": [
    "a = 'APOORVA'\n",
    "print('Hi there this is,' f'{a}')"
   ]
  },
  {
   "cell_type": "code",
   "execution_count": 6,
   "id": "0f095b62-2232-4453-aa35-1c3ff5a6b0dd",
   "metadata": {},
   "outputs": [
    {
     "name": "stdout",
     "output_type": "stream",
     "text": [
      "Requirement already satisfied: requests in c:\\users\\lenovo\\appdata\\local\\programs\\python\\python310\\lib\\site-packages (2.32.3)\n",
      "Requirement already satisfied: charset-normalizer<4,>=2 in c:\\users\\lenovo\\appdata\\local\\programs\\python\\python310\\lib\\site-packages (from requests) (3.4.1)\n",
      "Requirement already satisfied: idna<4,>=2.5 in c:\\users\\lenovo\\appdata\\local\\programs\\python\\python310\\lib\\site-packages (from requests) (3.10)\n",
      "Requirement already satisfied: urllib3<3,>=1.21.1 in c:\\users\\lenovo\\appdata\\local\\programs\\python\\python310\\lib\\site-packages (from requests) (2.2.2)\n",
      "Requirement already satisfied: certifi>=2017.4.17 in c:\\users\\lenovo\\appdata\\local\\programs\\python\\python310\\lib\\site-packages (from requests) (2025.1.31)\n"
     ]
    },
    {
     "name": "stderr",
     "output_type": "stream",
     "text": [
      "\n",
      "[notice] A new release of pip is available: 24.2 -> 25.2\n",
      "[notice] To update, run: python.exe -m pip install --upgrade pip\n"
     ]
    }
   ],
   "source": [
    "!pip install requests"
   ]
  },
  {
   "cell_type": "code",
   "execution_count": 7,
   "id": "660365bb-09d2-4ab9-9d96-383c29186ab0",
   "metadata": {},
   "outputs": [],
   "source": [
    "from urllib import request\n",
    "url = \"https://www.gutenberg.org/cache/epub/76503/pg76503.txt\"\n",
    "responce = request.urlopen(url)\n",
    "raw = responce.read().decode('utf8')"
   ]
  },
  {
   "cell_type": "code",
   "execution_count": 9,
   "id": "681d4ea9-1c89-428a-b89b-c86fa83f60bc",
   "metadata": {},
   "outputs": [
    {
     "name": "stderr",
     "output_type": "stream",
     "text": [
      "[nltk_data] Downloading package punkt to\n",
      "[nltk_data]     C:\\Users\\Lenovo\\AppData\\Roaming\\nltk_data...\n",
      "[nltk_data]   Package punkt is already up-to-date!\n",
      "[nltk_data] Downloading package punkt_tab to\n",
      "[nltk_data]     C:\\Users\\Lenovo\\AppData\\Roaming\\nltk_data...\n",
      "[nltk_data]   Unzipping tokenizers\\punkt_tab.zip.\n"
     ]
    },
    {
     "data": {
      "text/plain": [
       "True"
      ]
     },
     "execution_count": 9,
     "metadata": {},
     "output_type": "execute_result"
    }
   ],
   "source": [
    "import nltk\n",
    "nltk.download('punkt')       # You already did this, but harmless to run again\n",
    "nltk.download('punkt_tab')   # This is the new one required\n"
   ]
  },
  {
   "cell_type": "code",
   "execution_count": 11,
   "id": "14296bda-c16e-4f5c-9404-78b16decf1de",
   "metadata": {},
   "outputs": [
    {
     "name": "stdout",
     "output_type": "stream",
     "text": [
      "<class 'str'>\n",
      "70862\n"
     ]
    }
   ],
   "source": [
    "# source = https://www.gutenberg.org/cache/epub/76503/pg76503.txt \n",
    "from urllib import request\n",
    "from nltk.tokenize import word_tokenize\n",
    "\n",
    "url = \"https://www.gutenberg.org/cache/epub/76503/pg76503.txt\"\n",
    "resp = request.urlopen(url)\n",
    "raw = resp.read().decode('utf8')\n",
    "tokens = word_tokenize(raw)\n",
    "\n",
    "print(type(raw))      # <class 'str'>\n",
    "print(len(tokens))    # Total tokens count\n"
   ]
  }
 ],
 "metadata": {
  "kernelspec": {
   "display_name": "Python 3 (ipykernel)",
   "language": "python",
   "name": "python3"
  },
  "language_info": {
   "codemirror_mode": {
    "name": "ipython",
    "version": 3
   },
   "file_extension": ".py",
   "mimetype": "text/x-python",
   "name": "python",
   "nbconvert_exporter": "python",
   "pygments_lexer": "ipython3",
   "version": "3.10.7"
  }
 },
 "nbformat": 4,
 "nbformat_minor": 5
}
