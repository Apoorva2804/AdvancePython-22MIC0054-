{
 "cells": [
  {
   "cell_type": "markdown",
   "id": "f27ad684-cf01-4fa7-92d2-704590fc63ab",
   "metadata": {},
   "source": [
    "# LAB-11"
   ]
  },
  {
   "cell_type": "code",
   "execution_count": 1,
   "id": "a192a3a4-63b9-4b21-b31c-d2f8e6a83ba8",
   "metadata": {},
   "outputs": [
    {
     "name": "stdout",
     "output_type": "stream",
     "text": [
      "Sleeping 1 second...\n",
      "Done Sleeping\n",
      "Finished in 1.0 seconds\n"
     ]
    }
   ],
   "source": [
    "#threading is used to speed up processes\n",
    "import time\n",
    "\n",
    "start = time.perf_counter() #using to find the time the entrirer sequecnce takes from here\n",
    "\n",
    "def do_something():\n",
    "    print('Sleeping 1 second...')\n",
    "    time.sleep(1)\n",
    "    print('Done Sleeping')\n",
    "\n",
    "do_something()\n",
    "\n",
    "finish = time.perf_counter() #using to find the time\n",
    "\n",
    "\n",
    "print(f'Finished in {round(finish-start,2)} seconds')"
   ]
  },
  {
   "cell_type": "code",
   "execution_count": 1,
   "id": "121b939f-ab50-4354-ab82-cfecf47bb1ac",
   "metadata": {},
   "outputs": [
    {
     "name": "stdout",
     "output_type": "stream",
     "text": [
      "Sleeping 1 second...\n",
      "It is been just 1 sec\n",
      "Sleeping 1 second...\n",
      "It is been just 1 sec\n",
      "Finished in 2.02 seconds\n"
     ]
    }
   ],
   "source": [
    "#running the function twice\n",
    "import time\n",
    "\n",
    "start = time.perf_counter() #to find the time the entrire sequecnce takes from here\n",
    "\n",
    "def do_something():\n",
    "    print('Sleeping 1 second...')\n",
    "    time.sleep(1)\n",
    "    print('It is been just 1 sec')\n",
    "\n",
    "do_something()\n",
    "do_something()\n",
    "\n",
    "finish = time.perf_counter() #to find the time the entrire sequecnce till here\n",
    "print(f'Finished in {round(finish-start,2)} seconds')"
   ]
  },
  {
   "cell_type": "code",
   "execution_count": 4,
   "id": "bd175bea-c5cf-4a1e-a517-3616cc954b42",
   "metadata": {},
   "outputs": [
    {
     "name": "stdout",
     "output_type": "stream",
     "text": [
      "Finished in 0.0 seconds\n"
     ]
    }
   ],
   "source": [
    "import threading   \n",
    "import time\n",
    "\n",
    "start = time.perf_counter() \n",
    "\n",
    "def do_something():\n",
    "    print('Sleeping 1 second...')\n",
    "    time.sleep(1)\n",
    "    print('Done Sleeping')\n",
    "\n",
    "#do_something()\n",
    "#do_something()\n",
    "\n",
    "t1 = threading.Thread(target = do_something) #do not pass the function with (), as we dont intend to run the function, just pass it\n",
    "t2 = threading.Thread(target = do_something)\n",
    "\n",
    "finish = time.perf_counter() #using to find the time the entrirer sequecnce takes from here\n",
    "\n",
    "\n",
    "print(f'Finished in {round(finish-start,2)} seconds')"
   ]
  },
  {
   "cell_type": "code",
   "execution_count": 5,
   "id": "2d830ba3-3705-495e-993b-ca164480a639",
   "metadata": {},
   "outputs": [
    {
     "name": "stdout",
     "output_type": "stream",
     "text": [
      "Sleeping 1 second...\n",
      "Sleeping 1 second...\n",
      "Finished in 0.01 seconds\n",
      "Done SleepingDone Sleeping\n",
      "\n"
     ]
    }
   ],
   "source": [
    "import threading    \n",
    "\n",
    "start = time.perf_counter() #using to find the time the entrirer sequecnce takes from here\n",
    "\n",
    "def do_something():\n",
    "    print('Sleeping 1 second...')\n",
    "    time.sleep(1)\n",
    "    print('Done Sleeping')\n",
    "\n",
    "#instead the running the two functions like this, threads are used both of these\n",
    "#do_something()\n",
    "#do_something()\n",
    "\n",
    "t1 = threading.Thread(target = do_something) \n",
    "t2 = threading.Thread(target = do_something)\n",
    "\n",
    "t1.start()\n",
    "t2.start()#Allocates resources for the thread.\n",
    "# Calls the target function you passed into the thread.\n",
    "# Runs that function in parallel (concurrently) with the main program (or other threads).\n",
    "finish = time.perf_counter()\n",
    "\n",
    "print(f'Finished in {round(finish-start,2)} seconds')"
   ]
  },
  {
   "cell_type": "code",
   "execution_count": 6,
   "id": "ef83b1ff-10fd-4f34-a832-735f922d4f14",
   "metadata": {},
   "outputs": [
    {
     "name": "stdout",
     "output_type": "stream",
     "text": [
      "Sleeping 1 second...\n",
      "Sleeping 1 second...\n",
      "Done Sleeping\n",
      "Done Sleeping\n",
      "Finished in 1.02 seconds\n"
     ]
    }
   ],
   "source": [
    "import threading    \n",
    "import time\n",
    "\n",
    "start = time.perf_counter() \n",
    "def do_something():\n",
    "    print('Sleeping 1 second...')\n",
    "    time.sleep(1)\n",
    "    print('Done Sleeping')\n",
    "\n",
    "t1 = threading.Thread(target = do_something) #do not pass the function with (), as we dont intend to run the function, just pass it\n",
    "t2 = threading.Thread(target = do_something)\n",
    "\n",
    "t1.start()\n",
    "t2.start()\n",
    "\n",
    "t1.join()#make sure thread is executed\n",
    "t2.join()\n",
    "\n",
    "finish = time.perf_counter() #using to find the time the entrirer sequecnce takes from here\n",
    "\n",
    "\n",
    "print(f'Finished in {round(finish-start,2)} seconds')"
   ]
  },
  {
   "cell_type": "code",
   "execution_count": 3,
   "id": "9096767f-4dec-4fee-95fb-bc526739d846",
   "metadata": {},
   "outputs": [
    {
     "name": "stdout",
     "output_type": "stream",
     "text": [
      "Sleeping 1 second...\n",
      "Sleeping 1 second...\n",
      "Sleeping 1 second...\n",
      "Sleeping 1 second...\n",
      "Sleeping 1 second...\n",
      "Sleeping 1 second...\n",
      "Sleeping 1 second...\n",
      "Sleeping 1 second...\n",
      "Sleeping 1 second...\n",
      "Sleeping 1 second...\n",
      "Finished in 0.03 seconds\n",
      "Done SleepingDone Sleeping\n",
      "Done Sleeping\n",
      "Done Sleeping\n",
      "Done Sleeping\n",
      "Done Sleeping\n",
      "Done Sleeping\n",
      "Done Sleeping\n",
      "Done Sleeping\n",
      "Done Sleeping\n",
      "\n"
     ]
    }
   ],
   "source": [
    "import threading     #already a part of python package#(was throwing a error when not imported)\n",
    "import time\n",
    "\n",
    "start = time.perf_counter() \n",
    "def do_something():\n",
    "    print('Sleeping 1 second...')\n",
    "    time.sleep(1)\n",
    "    print('Done Sleeping')\n",
    "\n",
    "for _ in range(10):     \n",
    "    t = threading.Thread(target = do_something)#target work for the thread\n",
    "    t.start()           \n",
    "\n",
    "finish = time.perf_counter()\n",
    "\n",
    "\n",
    "print(f'Finished in {round(finish-start,2)} seconds')"
   ]
  },
  {
   "cell_type": "code",
   "execution_count": 10,
   "id": "84d87fb0-cc37-4d36-bb3e-578f7ff60cd2",
   "metadata": {},
   "outputs": [
    {
     "ename": "RuntimeError",
     "evalue": "cannot join thread before it is started",
     "output_type": "error",
     "traceback": [
      "\u001b[1;31m---------------------------------------------------------------------------\u001b[0m",
      "\u001b[1;31mRuntimeError\u001b[0m                              Traceback (most recent call last)",
      "Cell \u001b[1;32mIn[10], line 20\u001b[0m\n\u001b[0;32m     17\u001b[0m     threads\u001b[38;5;241m.\u001b[39mappend(t)\n\u001b[0;32m     19\u001b[0m \u001b[38;5;28;01mfor\u001b[39;00m thread \u001b[38;5;129;01min\u001b[39;00m threads:\u001b[38;5;66;03m#joining threads using a separate loop\u001b[39;00m\n\u001b[1;32m---> 20\u001b[0m     \u001b[43mthread\u001b[49m\u001b[38;5;241;43m.\u001b[39;49m\u001b[43mjoin\u001b[49m\u001b[43m(\u001b[49m\u001b[43m)\u001b[49m    \n\u001b[0;32m     23\u001b[0m finish \u001b[38;5;241m=\u001b[39m time\u001b[38;5;241m.\u001b[39mperf_counter()\n\u001b[0;32m     26\u001b[0m \u001b[38;5;28mprint\u001b[39m(\u001b[38;5;124mf\u001b[39m\u001b[38;5;124m'\u001b[39m\u001b[38;5;124mFinished in \u001b[39m\u001b[38;5;132;01m{\u001b[39;00m\u001b[38;5;28mround\u001b[39m(finish\u001b[38;5;241m-\u001b[39mstart,\u001b[38;5;241m2\u001b[39m)\u001b[38;5;132;01m}\u001b[39;00m\u001b[38;5;124m seconds\u001b[39m\u001b[38;5;124m'\u001b[39m)\n",
      "File \u001b[1;32m~\\AppData\\Local\\Programs\\Python\\Python310\\lib\\threading.py:1091\u001b[0m, in \u001b[0;36mThread.join\u001b[1;34m(self, timeout)\u001b[0m\n\u001b[0;32m   1089\u001b[0m     \u001b[38;5;28;01mraise\u001b[39;00m \u001b[38;5;167;01mRuntimeError\u001b[39;00m(\u001b[38;5;124m\"\u001b[39m\u001b[38;5;124mThread.__init__() not called\u001b[39m\u001b[38;5;124m\"\u001b[39m)\n\u001b[0;32m   1090\u001b[0m \u001b[38;5;28;01mif\u001b[39;00m \u001b[38;5;129;01mnot\u001b[39;00m \u001b[38;5;28mself\u001b[39m\u001b[38;5;241m.\u001b[39m_started\u001b[38;5;241m.\u001b[39mis_set():\n\u001b[1;32m-> 1091\u001b[0m     \u001b[38;5;28;01mraise\u001b[39;00m \u001b[38;5;167;01mRuntimeError\u001b[39;00m(\u001b[38;5;124m\"\u001b[39m\u001b[38;5;124mcannot join thread before it is started\u001b[39m\u001b[38;5;124m\"\u001b[39m)\n\u001b[0;32m   1092\u001b[0m \u001b[38;5;28;01mif\u001b[39;00m \u001b[38;5;28mself\u001b[39m \u001b[38;5;129;01mis\u001b[39;00m current_thread():\n\u001b[0;32m   1093\u001b[0m     \u001b[38;5;28;01mraise\u001b[39;00m \u001b[38;5;167;01mRuntimeError\u001b[39;00m(\u001b[38;5;124m\"\u001b[39m\u001b[38;5;124mcannot join current thread\u001b[39m\u001b[38;5;124m\"\u001b[39m)\n",
      "\u001b[1;31mRuntimeError\u001b[0m: cannot join thread before it is started"
     ]
    }
   ],
   "source": [
    "# Threading effect with 10 calls\n",
    "import threading    \n",
    "import time\n",
    "\n",
    "start = time.perf_counter() \n",
    "\n",
    "def do_something():\n",
    "    print('Sleeping 1 second...')\n",
    "    time.sleep(1)\n",
    "    print('Done Sleeping')\n",
    "\n",
    "threads = []\n",
    "    \n",
    "for _ in range(10):     \n",
    "    t = threading.Thread(target = do_something)\n",
    "    #t.start()  \n",
    "    threads.append(t)\n",
    "\n",
    "for thread in threads:#joining threads using a separate loop\n",
    "    thread.join()  #no thread start()  \n",
    "\n",
    "    \n",
    "finish = time.perf_counter()\n",
    "\n",
    "\n",
    "print(f'Finished in {round(finish-start,2)} seconds')"
   ]
  },
  {
   "cell_type": "code",
   "execution_count": 13,
   "id": "7b304bf5-6a47-49a0-9195-ec0a1e8d81b9",
   "metadata": {},
   "outputs": [
    {
     "name": "stdout",
     "output_type": "stream",
     "text": [
      "Sleeping 1 second...\n",
      "Sleeping 1 second...\n",
      "Sleeping 1 second...\n",
      "Sleeping 1 second...\n",
      "Sleeping 1 second...\n",
      "Sleeping 1 second...\n",
      "Sleeping 1 second...\n",
      "Sleeping 1 second...\n",
      "Sleeping 1 second...\n",
      "Sleeping 1 second...\n",
      "Done Sleeping\n",
      "Done Sleeping\n",
      "Done Sleeping\n",
      "Done Sleeping\n",
      "Done Sleeping\n",
      "Done Sleeping\n",
      "Done Sleeping\n",
      "Done Sleeping\n",
      "Done Sleeping\n",
      "Done Sleeping\n",
      "Finished in 1.05 seconds\n"
     ]
    }
   ],
   "source": [
    "# Threading effect with 10 calls\n",
    "import threading    \n",
    "import time\n",
    "\n",
    "start = time.perf_counter() \n",
    "\n",
    "def do_something():\n",
    "    print('Sleeping 1 second...')\n",
    "    time.sleep(1)\n",
    "    print('Done Sleeping')\n",
    "\n",
    "threads = []\n",
    "    \n",
    "for _ in range(10):     \n",
    "    t = threading.Thread(target = do_something)\n",
    "    t.start()  \n",
    "    threads.append(t)\n",
    "\n",
    "for thread in threads:#joining threads using a separate loop\n",
    "    thread.join()    \n",
    "\n",
    "    \n",
    "finish = time.perf_counter()\n",
    "\n",
    "\n",
    "print(f'Finished in {round(finish-start,2)} seconds')"
   ]
  },
  {
   "cell_type": "code",
   "execution_count": 14,
   "id": "daadf6e6-1488-4127-9131-46267f5fada1",
   "metadata": {},
   "outputs": [
    {
     "name": "stdout",
     "output_type": "stream",
     "text": [
      "Sleeping 1 second...\n",
      "Sleeping 1 second...\n",
      "Sleeping 1 second...\n",
      "Sleeping 1 second...\n",
      "Sleeping 1 second...\n",
      "Sleeping 1 second...\n",
      "Sleeping 1 second...\n",
      "Sleeping 1 second...\n",
      "Sleeping 1 second...\n",
      "Sleeping 1 second...\n",
      "Finished in 0.03 seconds\n",
      "Done SleepingDone Sleeping\n",
      "Done Sleeping\n",
      "Done Sleeping\n",
      "Done Sleeping\n",
      "Done Sleeping\n",
      "Done Sleeping\n",
      "Done Sleeping\n",
      "Done Sleeping\n",
      "Done Sleeping\n",
      "\n"
     ]
    }
   ],
   "source": [
    "# Threading effect with 10 calls\n",
    "import threading    \n",
    "import time\n",
    "\n",
    "start = time.perf_counter() \n",
    "\n",
    "def do_something():\n",
    "    print('Sleeping 1 second...')\n",
    "    time.sleep(1)\n",
    "    print('Done Sleeping')\n",
    "\n",
    "threads = []\n",
    "    \n",
    "for _ in range(10):     \n",
    "    t = threading.Thread(target = do_something)\n",
    "    t.start()  \n",
    "    threads.append(t)\n",
    "\n",
    "#for thread in threads:#joining threads using a separate loop(when not using join the thread looks further in the code and execute \n",
    "    #thread.join()    \n",
    "\n",
    "    \n",
    "finish = time.perf_counter()\n",
    "\n",
    "\n",
    "print(f'Finished in {round(finish-start,2)} seconds')"
   ]
  },
  {
   "cell_type": "code",
   "execution_count": 15,
   "id": "d19c8ae7-44bb-4811-a956-a51409d58b00",
   "metadata": {},
   "outputs": [
    {
     "name": "stdout",
     "output_type": "stream",
     "text": [
      "Downloading https://github.com/Apoorva2804/AdvancePython/8627-readme.txt to Downloads/8627-readme.txt\n",
      "Finished Downloading Downloads/8627-readme.txt\n"
     ]
    },
    {
     "data": {
      "text/plain": [
       "[None]"
      ]
     },
     "execution_count": 15,
     "metadata": {},
     "output_type": "execute_result"
    }
   ],
   "source": [
    "import threading\n",
    "import requests\n",
    "from pathlib import Path\n",
    "\n",
    "def download_file(url, filename):\n",
    "    print(f'Downloading {url} to {filename}')\n",
    "    response = requests.get(url)\n",
    "    Path(filename).write_bytes(response.content)\n",
    "    print(f'Finished Downloading {filename}')\n",
    "\n",
    "base_url = \"https://github.com/Apoorva2804/AdvancePython\"\n",
    "urls = [\n",
    "    f'{base_url}/8627-readme.txt',\n",
    "    #f'{base_url}/new_file.txt',\n",
    "]\n",
    "\n",
    "threads = []\n",
    "for url in urls:\n",
    "    filename = \"Downloads/\" + url.split(\"/\")[-1]\n",
    "    t = threading.Thread(target = download_file, args =(url,filename))\n",
    "    t.start()\n",
    "    threads.append(t)\n",
    "\n",
    "[t.join() for t in threads]\n",
    "\n",
    "       \n",
    "\n",
    "       \n"
   ]
  },
  {
   "cell_type": "code",
   "execution_count": 7,
   "id": "4ad9380e-acba-4a92-ba17-44a73b0ad01d",
   "metadata": {},
   "outputs": [
    {
     "name": "stdout",
     "output_type": "stream",
     "text": [
      "Sleeping 1.5 second(s)...\n",
      "Sleeping 1.5 second(s)...\n",
      "Sleeping 1.5 second(s)...\n",
      "Sleeping 1.5 second(s)...\n",
      "Sleeping 1.5 second(s)...\n",
      "Sleeping 1.5 second(s)...\n",
      "Sleeping 1.5 second(s)...\n",
      "Sleeping 1.5 second(s)...\n",
      "Sleeping 1.5 second(s)...\n",
      "Sleeping 1.5 second(s)...\n",
      "Done SleepingDone Sleeping\n",
      "\n",
      "Done Sleeping\n",
      "Done Sleeping\n",
      "Done Sleeping\n",
      "Done Sleeping\n",
      "Done Sleeping\n",
      "Done Sleeping\n",
      "Done Sleeping\n",
      "Done Sleeping\n",
      "Finished in 1.56 seconds\n"
     ]
    }
   ],
   "source": [
    "# Threading fucntions with arguments\n",
    "import threading    \n",
    "import time\n",
    "\n",
    "start = time.perf_counter() \n",
    "\n",
    "def do_something(seconds):                    #argument passed here\n",
    "    print(f'Sleeping {seconds} second(s)...') #fstring\n",
    "    time.sleep(seconds)\n",
    "    print('Done Sleeping')\n",
    "\n",
    "threads = []\n",
    "    \n",
    "for _ in range(10):     \n",
    "    t = threading.Thread(target = do_something, args = [1.5]) #same argument for all threads in the list\n",
    "    t.start()  \n",
    "    threads.append(t)\n",
    "\n",
    "for thread in threads:\n",
    "    thread.join()    \n",
    "\n",
    "    \n",
    "finish = time.perf_counter()\n",
    "\n",
    "\n",
    "print(f'Finished in {round(finish-start,2)} seconds')\n"
   ]
  },
  {
   "cell_type": "code",
   "execution_count": 8,
   "id": "491ff507-ad1a-4a5e-90b4-2a549873789c",
   "metadata": {},
   "outputs": [
    {
     "name": "stdout",
     "output_type": "stream",
     "text": [
      "Sleeping 1 second(s)...\n",
      "Done Sleeping...\n",
      "Finished in 1.01 seconds\n"
     ]
    }
   ],
   "source": [
    "import concurrent.futures\n",
    "import time\n",
    "\n",
    "start = time.perf_counter() \n",
    "\n",
    "def do_something(seconds):                    \n",
    "    print(f'Sleeping {seconds} second(s)...') \n",
    "    time.sleep(seconds)\n",
    "    #print('Done Sleeping')\n",
    "    return 'Done Sleeping...'\n",
    "\n",
    "with concurrent.futures.ThreadPoolExecutor() as executor:#thread pool executor is context executor\n",
    "    f1 = executor.submit(do_something, 1)  #submit function will schedule the execution of function and returns a furture object\n",
    "    print(f1.result())\n",
    "\n",
    "   \n",
    "finish = time.perf_counter()\n",
    "\n",
    "\n",
    "print(f'Finished in {round(finish-start,2)} seconds')\n"
   ]
  },
  {
   "cell_type": "code",
   "execution_count": 9,
   "id": "61078650-a761-435f-88b8-abb80709989c",
   "metadata": {},
   "outputs": [
    {
     "name": "stdout",
     "output_type": "stream",
     "text": [
      "Sleeping 1 second(s)...\n",
      "Sleeping 1 second(s)...\n",
      "Done Sleeping...\n",
      "Done Sleeping...\n",
      "Finished in 1.02 seconds\n"
     ]
    }
   ],
   "source": [
    "import concurrent.futures\n",
    "import time\n",
    "\n",
    "start = time.perf_counter() \n",
    "\n",
    "def do_something(seconds):                    \n",
    "    print(f'Sleeping {seconds} second(s)...') \n",
    "    time.sleep(seconds)\n",
    "    #print('Done Sleeping')\n",
    "    return 'Done Sleeping...'\n",
    "\n",
    "with concurrent.futures.ThreadPoolExecutor() as executor:\n",
    "    f1 = executor.submit(do_something, 1)  #submit function will schedule the execution of function and returns a furture object\n",
    "    f2 = executor.submit(do_something, 1)\n",
    "    print(f1.result())\n",
    "    print(f2.result())\n",
    "\n",
    "   \n",
    "finish = time.perf_counter()\n",
    "\n",
    "\n",
    "print(f'Finished in {round(finish-start,2)} seconds')\n"
   ]
  },
  {
   "cell_type": "code",
   "execution_count": 10,
   "id": "eccfc8b7-3e83-45cb-b65c-bdbb1927553f",
   "metadata": {},
   "outputs": [
    {
     "name": "stdout",
     "output_type": "stream",
     "text": [
      "Sleeping 1 second(s)...\n",
      "Sleeping 1 second(s)...\n",
      "Sleeping 1 second(s)...\n",
      "Sleeping 1 second(s)...\n",
      "Sleeping 1 second(s)...\n",
      "Sleeping 1 second(s)...\n",
      "Sleeping 1 second(s)...\n",
      "Sleeping 1 second(s)...\n",
      "Sleeping 1 second(s)...\n",
      "Sleeping 1 second(s)...\n",
      "Done Sleeping...\n",
      "Done Sleeping...\n",
      "Done Sleeping...\n",
      "Done Sleeping...\n",
      "Done Sleeping...\n",
      "Done Sleeping...\n",
      "Done Sleeping...\n",
      "Done Sleeping...\n",
      "Done Sleeping...\n",
      "Done Sleeping...\n",
      "Finished in 1.02 seconds\n"
     ]
    }
   ],
   "source": [
    "import concurrent.futures\n",
    "import time\n",
    "\n",
    "start = time.perf_counter() \n",
    "\n",
    "def do_something(seconds):                    \n",
    "    print(f'Sleeping {seconds} second(s)...') \n",
    "    time.sleep(seconds)\n",
    "    return 'Done Sleeping...'\n",
    "\n",
    "with concurrent.futures.ThreadPoolExecutor() as executor:\n",
    "    results = [executor.submit(do_something, 1) for _ in range(10)] #list comprehension, alternative to loop\n",
    "\n",
    "    for f in concurrent.futures.as_completed(results):\n",
    "        print(f.result())\n",
    "         \n",
    "finish = time.perf_counter()\n",
    "\n",
    "\n",
    "print(f'Finished in {round(finish-start,2)} seconds')\n"
   ]
  },
  {
   "cell_type": "markdown",
   "id": "c4a10e4f-e272-4561-a012-e134698853e6",
   "metadata": {},
   "source": [
    "# ERROR\n",
    "# The time.sleep() function expects a single numerical value (an integer or float) representing the number of seconds to pause execution. However, in your original list comprehension [executor.submit(do_something, s) for sec in s], you are repeatedly passing the entire list s to the function."
   ]
  },
  {
   "cell_type": "code",
   "execution_count": 12,
   "id": "15849d48-893d-4131-bb9f-a71e90bfca3d",
   "metadata": {},
   "outputs": [
    {
     "name": "stdout",
     "output_type": "stream",
     "text": [
      "Sleeping 5 second(s)...\n",
      "Sleeping 4 second(s)...\n",
      "Sleeping 3 second(s)...\n",
      "Sleeping 2 second(s)...\n",
      "Sleeping 1 second(s)...\n",
      "Done Sleeping...1\n",
      "Done Sleeping...2\n",
      "Done Sleeping...3\n",
      "Done Sleeping...4\n",
      "Done Sleeping...5\n",
      "Finished in 5.03 seconds\n"
     ]
    }
   ],
   "source": [
    "#corrected code\n",
    "import concurrent.futures\n",
    "import time\n",
    "\n",
    "start = time.perf_counter() \n",
    "\n",
    "def do_something(seconds):                    \n",
    "    print(f'Sleeping {seconds} second(s)...') \n",
    "    time.sleep(seconds)\n",
    "    return f'Done Sleeping...{seconds}'\n",
    "\n",
    "with concurrent.futures.ThreadPoolExecutor() as executor:\n",
    "    s = [5,4,3,2,1] #different sleeping time for threads\n",
    "    results = [executor.submit(do_something, sec) for sec in s] #list comprehension, alternative to loop#(do_something,s)->gives type error\n",
    "\n",
    "    for f in concurrent.futures.as_completed(results):\n",
    "        print(f.result())\n",
    "   \n",
    "finish = time.perf_counter()\n",
    "\n",
    "\n",
    "print(f'Finished in {round(finish-start,2)} seconds')\n"
   ]
  },
  {
   "cell_type": "code",
   "execution_count": 13,
   "id": "f7364bf9-9044-452b-95d5-d3e35eafdbab",
   "metadata": {},
   "outputs": [
    {
     "name": "stdout",
     "output_type": "stream",
     "text": [
      "Apoorva\n",
      "Arnav\n",
      "Rachna\n",
      "Minion\n",
      "48\n",
      "25\n",
      "50\n",
      "28\n"
     ]
    }
   ],
   "source": [
    "import threading\n",
    "import time\n",
    "import random\n",
    "\n",
    "def print_names():\n",
    "    for name in ('Apoorva', 'Arnav', 'Rachna', 'Minion'):\n",
    "        print (name)\n",
    "        time.sleep(random.uniform ( 0.5, 1.5))\n",
    "\n",
    "def print_ages():\n",
    "    for _ in range(4):\n",
    "        print(random.randint(20,50))\n",
    "        time.sleep(random.uniform(0.5,1.5))\n",
    "\n",
    "\n",
    "print_names()\n",
    "print_ages()\n",
    "        "
   ]
  },
  {
   "cell_type": "code",
   "execution_count": 15,
   "id": "4b7abb92-0d79-4df7-9d21-5c10fc56ab5e",
   "metadata": {},
   "outputs": [
    {
     "name": "stdout",
     "output_type": "stream",
     "text": [
      "Apoorva\n",
      "36\n",
      "Arnav\n",
      "24\n",
      "43\n",
      "Rachna\n",
      "35\n",
      "Minion\n"
     ]
    }
   ],
   "source": [
    "import threading\n",
    "import time\n",
    "import random\n",
    "\n",
    "def print_names():\n",
    "    for name in ('Apoorva', 'Arnav', 'Rachna', 'Minion'):\n",
    "        print (name)\n",
    "        time.sleep(random.uniform ( 0.5, 1.5))\n",
    "\n",
    "def print_ages():\n",
    "    for _ in range(4):\n",
    "        print(random.randint(20,50))\n",
    "        time.sleep(random.uniform(0.5,1.5))\n",
    "\n",
    "\n",
    "t1 = threading.Thread(target = print_names)\n",
    "t2 = threading.Thread(target = print_ages)\n",
    "\n",
    "t1.start()\n",
    "t2.start()\n",
    "\n",
    "# t1.join()\n",
    "# t2.join()\n",
    "        "
   ]
  },
  {
   "cell_type": "code",
   "execution_count": 16,
   "id": "affb65cb-ea77-40d9-a82a-3b3bcd6b7a86",
   "metadata": {},
   "outputs": [
    {
     "name": "stdout",
     "output_type": "stream",
     "text": [
      "Apoorva\n",
      "41\n",
      "Arnav\n",
      "28\n",
      "Rachna\n",
      "26\n",
      "Minion\n",
      "48\n"
     ]
    }
   ],
   "source": [
    "import threading\n",
    "import time\n",
    "import random\n",
    "\n",
    "def print_names():\n",
    "    for name in ('Apoorva', 'Arnav', 'Rachna', 'Minion'):\n",
    "        print (name)\n",
    "        time.sleep(random.uniform ( 0.5, 1.5))\n",
    "\n",
    "def print_ages():\n",
    "    for _ in range(4):\n",
    "        print(random.randint(20,50))\n",
    "        time.sleep(random.uniform(0.5,1.5))\n",
    "\n",
    "\n",
    "t1 = threading.Thread(target = print_names)\n",
    "t2 = threading.Thread(target = print_ages)\n",
    "\n",
    "t1.start()\n",
    "t2.start()\n",
    "\n",
    "t1.join()#The threads are executed one after the other\n",
    "t2.join()\n",
    "        "
   ]
  },
  {
   "cell_type": "code",
   "execution_count": 18,
   "id": "36ac1b9b-e493-4f60-abd4-baeccd87982d",
   "metadata": {},
   "outputs": [
    {
     "name": "stdout",
     "output_type": "stream",
     "text": [
      "Downloading https://raw.githubusercontent.com/Apoorva2804/AdvancePython/refs/heads/main/Lab9.ipynb → Downloads\\Lab9.ipynb\n",
      "Finished downloading: Downloads\\Lab9.ipynb\n"
     ]
    }
   ],
   "source": [
    "import threading\n",
    "import requests\n",
    "from pathlib import Path\n",
    "\n",
    "def download_file(url, filename):\n",
    "    print(f'Downloading {url} → {filename}')\n",
    "    response = requests.get(url)\n",
    "    response.raise_for_status()  # Raises error if download fails\n",
    "    Path(filename).write_bytes(response.content)\n",
    "    print(f'Finished downloading: {filename}')\n",
    "\n",
    "# Your raw GitHub URL for the .ipynb file\n",
    "urls = [\n",
    "    \"https://raw.githubusercontent.com/Apoorva2804/AdvancePython/refs/heads/main/Lab9.ipynb\", \n",
    "]#downloading my assignment from github\n",
    "\n",
    "threads = []\n",
    "download_dir = Path(\"Downloads\")\n",
    "download_dir.mkdir(exist_ok=True)\n",
    "\n",
    "for url in urls:\n",
    "    filename = download_dir / url.split(\"/\")[-1]\n",
    "    t = threading.Thread(target=download_file, args=(url, filename))\n",
    "    t.start()\n",
    "    threads.append(t)\n",
    "\n",
    "for t in threads:\n",
    "    t.join()\n"
   ]
  },
  {
   "cell_type": "code",
   "execution_count": null,
   "id": "ff992735-8388-4300-985d-41a1bd45b3cc",
   "metadata": {},
   "outputs": [],
   "source": []
  }
 ],
 "metadata": {
  "kernelspec": {
   "display_name": "Python 3 (ipykernel)",
   "language": "python",
   "name": "python3"
  },
  "language_info": {
   "codemirror_mode": {
    "name": "ipython",
    "version": 3
   },
   "file_extension": ".py",
   "mimetype": "text/x-python",
   "name": "python",
   "nbconvert_exporter": "python",
   "pygments_lexer": "ipython3",
   "version": "3.10.7"
  }
 },
 "nbformat": 4,
 "nbformat_minor": 5
}
