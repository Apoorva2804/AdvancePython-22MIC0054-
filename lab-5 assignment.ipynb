{
 "cells": [
  {
   "cell_type": "markdown",
   "id": "37a3a67b",
   "metadata": {},
   "source": [
    "#FIRST PART"
   ]
  },
  {
   "cell_type": "markdown",
   "id": "aa79bcdc",
   "metadata": {},
   "source": [
    "SEQUENCE UNPACKING"
   ]
  },
  {
   "cell_type": "code",
   "execution_count": null,
   "id": "2d22aa9d",
   "metadata": {},
   "outputs": [
    {
     "name": "stdout",
     "output_type": "stream",
     "text": [
      "11\n",
      "3\n",
      "5\n",
      "7\n"
     ]
    }
   ],
   "source": [
    "# Define a list \n",
    "ODDS = [11, 3, 5, 7]\n",
    "\n",
    "# Use sequence unpacking to assign each value in the list to a separate variable\n",
    "a, b, c, d = ODDS\n",
    "\n",
    "# Print the values of each variable\n",
    "print(a)  \n",
    "print(b)  \n",
    "print(c)  \n",
    "print(d)  \n"
   ]
  },
  {
   "cell_type": "code",
   "execution_count": null,
   "id": "3fe29bd4",
   "metadata": {},
   "outputs": [
    {
     "name": "stdout",
     "output_type": "stream",
     "text": [
      "11\n",
      "3\n",
      "5 7\n"
     ]
    }
   ],
   "source": [
    "# Sequence unpacking:\n",
    "# a gets the first element (11)\n",
    "# b gets the second element (3)\n",
    "# *c collects the remaining elements into a list (i.e., [5, 7])\n",
    "a, b, *c = ODDS\n",
    "a,b,*c=ODDS\n",
    "print(a)\n",
    "print(b)\n",
    "print(*c)"
   ]
  },
  {
   "cell_type": "code",
   "execution_count": 3,
   "id": "9b26125d",
   "metadata": {},
   "outputs": [],
   "source": [
    "ODDS=[2,3,5]"
   ]
  },
  {
   "cell_type": "code",
   "execution_count": 4,
   "id": "9e33bff1",
   "metadata": {},
   "outputs": [],
   "source": [
    "# Define a function named 'a' that takes three parameters: x, y, and z\n",
    "def a(x, y, z):\n",
    "    # Return the sum of the three parameters\n",
    "    return (x + y + z)\n"
   ]
  },
  {
   "cell_type": "code",
   "execution_count": 5,
   "id": "ba3bda12",
   "metadata": {},
   "outputs": [
    {
     "name": "stdout",
     "output_type": "stream",
     "text": [
      "10\n"
     ]
    }
   ],
   "source": [
    "# This calls the function 'a' with unpacked values from the ODDS list\n",
    "# ODDS=[11, 3, 5, 7], but only the first 3 values are used because 'a' accepts 3 arguments\n",
    "# So it becomes a(11, 3, 5)\n",
    "print(a(*ODDS))  # Output: 19\n"
   ]
  },
  {
   "cell_type": "code",
   "execution_count": 6,
   "id": "8d23756a",
   "metadata": {},
   "outputs": [
    {
     "name": "stdout",
     "output_type": "stream",
     "text": [
      "code : python\n",
      "school : SCOPE\n",
      "course : CSI3007\n"
     ]
    }
   ],
   "source": [
    "def show_info(**info):\n",
    "    for k, v in info.items():\n",
    "        print(f\"{k} : {v}\")\n",
    "\n",
    "data = {\n",
    "    \"code\": \"python\",\n",
    "    \"school\": \"SCOPE\",\n",
    "    \"course\": \"CSI3007\"\n",
    "}\n",
    "\n",
    "show_info(**data)  # Unpack the dictionary as keyword arguments"
   ]
  }
 ],
 "metadata": {
  "kernelspec": {
   "display_name": "Python 3",
   "language": "python",
   "name": "python3"
  },
  "language_info": {
   "codemirror_mode": {
    "name": "ipython",
    "version": 3
   },
   "file_extension": ".py",
   "mimetype": "text/x-python",
   "name": "python",
   "nbconvert_exporter": "python",
   "pygments_lexer": "ipython3",
   "version": "3.10.7"
  }
 },
 "nbformat": 4,
 "nbformat_minor": 5
}
