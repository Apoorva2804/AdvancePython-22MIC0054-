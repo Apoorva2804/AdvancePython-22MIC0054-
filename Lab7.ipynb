{
 "cells": [
  {
   "cell_type": "markdown",
   "id": "2c5df7cb-fa3a-40e9-93d1-0aea4fc68519",
   "metadata": {},
   "source": [
    "# Lamda Function"
   ]
  },
  {
   "cell_type": "code",
   "execution_count": 1,
   "id": "c89b2dde-06cb-4132-81f9-b07a2debb0e0",
   "metadata": {},
   "outputs": [
    {
     "data": {
      "text/plain": [
       "<function __main__.<lambda>(x, y)>"
      ]
     },
     "execution_count": 1,
     "metadata": {},
     "output_type": "execute_result"
    }
   ],
   "source": [
    "lambda x:x+2 #logic part using lambda function\n",
    "lambda x,y:x+y\n",
    "lambda x,y:x if x>y else y"
   ]
  },
  {
   "cell_type": "markdown",
   "id": "0a11d54e-ec2d-4335-87ca-64d4038d4606",
   "metadata": {},
   "source": [
    "# List is iterable"
   ]
  },
  {
   "cell_type": "code",
   "execution_count": 2,
   "id": "f3ae75b1-a78d-467c-bb73-5a16beeb5747",
   "metadata": {},
   "outputs": [
    {
     "name": "stdout",
     "output_type": "stream",
     "text": [
      "1\n",
      "2\n",
      "3\n",
      "4\n",
      "5\n"
     ]
    }
   ],
   "source": [
    "l=[1,2,3,4,5]\n",
    "for i in l:\n",
    "    print(i) #iterating through list and printing"
   ]
  },
  {
   "cell_type": "markdown",
   "id": "80894570-79a8-47bd-bf58-339a34134dd6",
   "metadata": {},
   "source": [
    "# Integer is not iterable"
   ]
  },
  {
   "cell_type": "code",
   "execution_count": 4,
   "id": "2f547830-3eac-4295-8e6d-f893f3de2b41",
   "metadata": {},
   "outputs": [
    {
     "ename": "TypeError",
     "evalue": "'int' object is not iterable",
     "output_type": "error",
     "traceback": [
      "\u001b[1;31m---------------------------------------------------------------------------\u001b[0m",
      "\u001b[1;31mTypeError\u001b[0m                                 Traceback (most recent call last)",
      "Cell \u001b[1;32mIn[4], line 2\u001b[0m\n\u001b[0;32m      1\u001b[0m n\u001b[38;5;241m=\u001b[39m\u001b[38;5;241m65776\u001b[39m\n\u001b[1;32m----> 2\u001b[0m \u001b[38;5;28;01mfor\u001b[39;00m i \u001b[38;5;129;01min\u001b[39;00m n:\n\u001b[0;32m      3\u001b[0m     \u001b[38;5;28mprint\u001b[39m(i) \u001b[38;5;66;03m#Expected error\u001b[39;00m\n",
      "\u001b[1;31mTypeError\u001b[0m: 'int' object is not iterable"
     ]
    }
   ],
   "source": [
    "n=65776\n",
    "for i in n:\n",
    "    print(i) #Expected error"
   ]
  },
  {
   "cell_type": "code",
   "execution_count": 5,
   "id": "97fc9d83-dbf3-48c7-a49d-6c5ed10e1dc8",
   "metadata": {},
   "outputs": [
    {
     "name": "stdout",
     "output_type": "stream",
     "text": [
      "[6, 5, 7, 7, 6]\n",
      "6\n",
      "5\n",
      "7\n",
      "7\n",
      "6\n"
     ]
    }
   ],
   "source": [
    "#Making a integer iterable\n",
    "n=65776\n",
    "digits=[int(d) for d in str(n)]\n",
    "print(digits)#Print in list format\n",
    "for digit in digits:\n",
    "    print(digit)#iterating through digits"
   ]
  },
  {
   "cell_type": "markdown",
   "id": "fa7e468c-eb42-4d82-9a14-5b602c5cd7a1",
   "metadata": {},
   "source": [
    "# List of method that is supported"
   ]
  },
  {
   "cell_type": "code",
   "execution_count": 6,
   "id": "bb7c806f-cb10-4a0d-bf52-7dc0e54276fa",
   "metadata": {},
   "outputs": [
    {
     "name": "stdout",
     "output_type": "stream",
     "text": [
      "['__add__', '__class__', '__class_getitem__', '__contains__', '__delattr__', '__delitem__', '__dir__', '__doc__', '__eq__', '__format__', '__ge__', '__getattribute__', '__getitem__', '__gt__', '__hash__', '__iadd__', '__imul__', '__init__', '__init_subclass__', '__iter__', '__le__', '__len__', '__lt__', '__mul__', '__ne__', '__new__', '__reduce__', '__reduce_ex__', '__repr__', '__reversed__', '__rmul__', '__setattr__', '__setitem__', '__sizeof__', '__str__', '__subclasshook__', 'append', 'clear', 'copy', 'count', 'extend', 'index', 'insert', 'pop', 'remove', 'reverse', 'sort']\n"
     ]
    }
   ],
   "source": [
    "print(dir(digits))"
   ]
  },
  {
   "cell_type": "markdown",
   "id": "b8e35c3a-d316-4ca5-b2bd-57b1ffc8b09b",
   "metadata": {},
   "source": [
    "# Using iter function"
   ]
  },
  {
   "cell_type": "code",
   "execution_count": 7,
   "id": "ca1d6c89-2693-4bff-8171-7ed0c62a4cc5",
   "metadata": {},
   "outputs": [
    {
     "data": {
      "text/plain": [
       "<list_iterator at 0x1c215c25de0>"
      ]
     },
     "execution_count": 7,
     "metadata": {},
     "output_type": "execute_result"
    }
   ],
   "source": [
    "names=['Ema','Tom','Alice']\n",
    "looper=names.__iter__()#method1 to implement iter\n",
    "looper#error expected"
   ]
  },
  {
   "cell_type": "code",
   "execution_count": 8,
   "id": "5394c386-9270-44a6-97e6-ad5a2d16a308",
   "metadata": {},
   "outputs": [
    {
     "name": "stdout",
     "output_type": "stream",
     "text": [
      "Ema\n",
      "Tom\n",
      "Alice\n"
     ]
    }
   ],
   "source": [
    "names=['Ema','Tom','Alice']\n",
    "looper=names.__iter__()\n",
    "# Loop through the iterator using next()\n",
    "print(next(looper))  # Output: Ema\n",
    "print(next(looper))  # Output: Tom\n",
    "print(next(looper))  # Output: Alice"
   ]
  },
  {
   "cell_type": "code",
   "execution_count": 9,
   "id": "af0b6799-ed0f-456d-b6c4-5d34b5273958",
   "metadata": {},
   "outputs": [
    {
     "name": "stdout",
     "output_type": "stream",
     "text": [
      "Ema\n",
      "Tom\n",
      "Alice\n"
     ]
    },
    {
     "ename": "StopIteration",
     "evalue": "",
     "output_type": "error",
     "traceback": [
      "\u001b[1;31m---------------------------------------------------------------------------\u001b[0m",
      "\u001b[1;31mStopIteration\u001b[0m                             Traceback (most recent call last)",
      "Cell \u001b[1;32mIn[9], line 8\u001b[0m\n\u001b[0;32m      5\u001b[0m \u001b[38;5;28mprint\u001b[39m(\u001b[38;5;28mnext\u001b[39m(looper))  \u001b[38;5;66;03m# Output: Alice\u001b[39;00m\n\u001b[0;32m      7\u001b[0m \u001b[38;5;66;03m# If you call next again, it will raise StopIteration\u001b[39;00m\n\u001b[1;32m----> 8\u001b[0m \u001b[38;5;28mprint\u001b[39m(\u001b[38;5;28;43mnext\u001b[39;49m\u001b[43m(\u001b[49m\u001b[43mlooper\u001b[49m\u001b[43m)\u001b[49m)\n",
      "\u001b[1;31mStopIteration\u001b[0m: "
     ]
    }
   ],
   "source": [
    "looper=iter(names)#method2 to implement iter\n",
    "# Loop through the iterator using next()\n",
    "print(next(looper))  # Output: Ema\n",
    "print(next(looper))  # Output: Tom\n",
    "print(next(looper))  # Output: Alice\n",
    "\n",
    "# If you call next again, it will raise StopIteration\n",
    "print(next(looper))"
   ]
  },
  {
   "cell_type": "code",
   "execution_count": 11,
   "id": "a0891f38-3a83-4127-b804-7cae766fa7ec",
   "metadata": {},
   "outputs": [
    {
     "name": "stdout",
     "output_type": "stream",
     "text": [
      "Ema\n",
      "Tom\n",
      "Alice\n"
     ]
    }
   ],
   "source": [
    "names=['Ema','Tom','Alice']\n",
    "looper=iter(names)\n",
    "while True:\n",
    "    try:\n",
    "        name=next(looper)\n",
    "        print(name)\n",
    "    except StopIteration:#Exception Handling\n",
    "        break"
   ]
  },
  {
   "cell_type": "code",
   "execution_count": 12,
   "id": "e82de4b0-524b-4c08-af54-67d948f071bb",
   "metadata": {},
   "outputs": [
    {
     "name": "stdout",
     "output_type": "stream",
     "text": [
      "[1, 4, 9, 16, 25]\n"
     ]
    }
   ],
   "source": [
    "# Define a function that returns the square of a number\n",
    "def square(x):\n",
    "    return x * x\n",
    "\n",
    "# Create a list of numbers\n",
    "numbers = [1, 2, 3, 4, 5]\n",
    "\n",
    "# Using map() to apply the square function to each number in the list\n",
    "# Convert the result to a list and print it\n",
    "print(list(map(square, numbers))) "
   ]
  },
  {
   "cell_type": "code",
   "execution_count": 13,
   "id": "04bcf5cf-3dc6-4461-898d-eb652e0c7274",
   "metadata": {},
   "outputs": [
    {
     "name": "stdout",
     "output_type": "stream",
     "text": [
      "[1, 4, 9, 16, 25]\n"
     ]
    }
   ],
   "source": [
    "#alternate way using lambda function\n",
    "numbers=[1,2,3,4,5]\n",
    "print(list(map(lambda x:x*x, numbers)))"
   ]
  },
  {
   "cell_type": "code",
   "execution_count": null,
   "id": "bd8958d4-2ea7-48a7-8e9f-f98affb9521a",
   "metadata": {},
   "outputs": [],
   "source": [
    "numbers=[1,2,3,4,5]\n",
    "print(list(filter(lambda x:x>3, numbers)))#filter only allows the element to pass through which satisfies the condition"
   ]
  },
  {
   "cell_type": "code",
   "execution_count": 14,
   "id": "c802d8e8-69d3-4c7d-aa36-dfb8674d7e19",
   "metadata": {},
   "outputs": [
    {
     "name": "stdout",
     "output_type": "stream",
     "text": [
      "apoorva\n"
     ]
    }
   ],
   "source": [
    "#Function that returns lowercase \n",
    "str=\"ApOoRva\"\n",
    "print(str.lower())"
   ]
  },
  {
   "cell_type": "code",
   "execution_count": 16,
   "id": "2870ae1d-a3ee-4b34-ba6e-6d6bf9392080",
   "metadata": {},
   "outputs": [
    {
     "name": "stdout",
     "output_type": "stream",
     "text": [
      "['appple', 'kiwi', 'orange']\n"
     ]
    }
   ],
   "source": [
    "#using lambda function to convert strings present in the list to lowercase\n",
    "l=[\"ApPPLE\",\"KIwi\",\"ORaNge\"]\n",
    "print(list(map(lambda x:x.lower(),l)))"
   ]
  },
  {
   "cell_type": "code",
   "execution_count": 17,
   "id": "05c668d3-cac2-4a61-82f8-2280f417c97b",
   "metadata": {},
   "outputs": [
    {
     "name": "stdout",
     "output_type": "stream",
     "text": [
      "15\n"
     ]
    }
   ],
   "source": [
    "from  functools import reduce\n",
    "print(reduce(lambda x,y:x+y,numbers))#cumilatively holding of values to give an output"
   ]
  },
  {
   "cell_type": "markdown",
   "id": "3a795dc3-bc36-44f0-a2d8-f480f3f6ee0d",
   "metadata": {},
   "source": [
    "# Making a sentence using reduce function"
   ]
  },
  {
   "cell_type": "code",
   "execution_count": 18,
   "id": "a0ec93c0-800d-400a-9f27-ff7bb053faa9",
   "metadata": {},
   "outputs": [
    {
     "name": "stdout",
     "output_type": "stream",
     "text": [
      "A goal without a plan is just a wish\n"
     ]
    }
   ],
   "source": [
    "from functools import reduce\n",
    "words = [\"A\" ,\"goal\" ,\"without\" ,\"a\" ,\"plan\" ,\"is\" ,\"just\" ,\"a\" ,\"wish\"]\n",
    "sentence = reduce(lambda x,y: x + \" \" + y,words)\n",
    "print(sentence)"
   ]
  },
  {
   "cell_type": "markdown",
   "id": "fab5528e-fce9-4f1a-bed2-ab82214af8fa",
   "metadata": {},
   "source": [
    "# Map,Filter and Reduce"
   ]
  },
  {
   "cell_type": "markdown",
   "id": "3a18cfef-959d-4def-9c34-5f8e2327db3a",
   "metadata": {},
   "source": [
    "map(): Applies a given function to each item in an iterable and returns a new iterable .\n",
    "\n",
    "filter(): Selects items from an iterable for which a given function returns True.\n",
    "\n",
    "reduce() (from functools): Repeatedly applies a function to items of an iterable, cumilatively reducing it to a single value."
   ]
  },
  {
   "cell_type": "code",
   "execution_count": null,
   "id": "66635b7f-8994-4e34-8613-228b4fd90838",
   "metadata": {},
   "outputs": [],
   "source": []
  }
 ],
 "metadata": {
  "kernelspec": {
   "display_name": "Python 3 (ipykernel)",
   "language": "python",
   "name": "python3"
  },
  "language_info": {
   "codemirror_mode": {
    "name": "ipython",
    "version": 3
   },
   "file_extension": ".py",
   "mimetype": "text/x-python",
   "name": "python",
   "nbconvert_exporter": "python",
   "pygments_lexer": "ipython3",
   "version": "3.10.7"
  }
 },
 "nbformat": 4,
 "nbformat_minor": 5
}
