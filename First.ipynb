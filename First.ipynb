{
 "cells": [
  {
   "cell_type": "code",
   "execution_count": 2,
   "id": "7e9ca068-d905-467f-8271-c647d7b695b0",
   "metadata": {},
   "outputs": [
    {
     "name": "stdout",
     "output_type": "stream",
     "text": [
      "Original string: apoorva\n",
      "ID of s: 1841992136176\n",
      "\n",
      "Assigned t = s\n",
      "ID of t: 1841992136176\n",
      "\n",
      "After modifying s:\n",
      "New value of s: apoorva world\n",
      "ID of s after modification: 1841992103792\n",
      "\n",
      "Value of t: apoorva\n",
      "ID of t remains: 1841992136176\n"
     ]
    }
   ],
   "source": [
    "# Original string\n",
    "s = \"apoorva\"\n",
    "print(\"Original string:\", s)\n",
    "print(\"ID of s:\", id(s))\n",
    "\n",
    "# Assign same string to another variable\n",
    "t = s\n",
    "print(\"\\nAssigned t = s\")\n",
    "print(\"ID of t:\", id(t))\n",
    "\n",
    "# Modify the string by concatenation (this creates a new string)\n",
    "s = s + \" world\"\n",
    "print(\"\\nAfter modifying s:\")\n",
    "print(\"New value of s:\", s)\n",
    "print(\"ID of s after modification:\", id(s))\n",
    "\n",
    "# t still holds the original string\n",
    "print(\"\\nValue of t:\", t)\n",
    "print(\"ID of t remains:\", id(t))\n"
   ]
  },
  {
   "cell_type": "code",
   "execution_count": 7,
   "id": "41a912ea-7101-4547-94bd-aae30f143b47",
   "metadata": {},
   "outputs": [
    {
     "name": "stdout",
     "output_type": "stream",
     "text": [
      "['A', 'P', 'O', 'O', 'R', 'V', 'A']\n"
     ]
    }
   ],
   "source": [
    "#for loop\n",
    "s = \"apoorva\"\n",
    "result = []\n",
    "for char in s:\n",
    "    result.append(char.upper())\n",
    "print(result)\n",
    "\n"
   ]
  },
  {
   "cell_type": "code",
   "execution_count": 8,
   "id": "aa937395-8b04-4cd8-9824-ce7dc09b5809",
   "metadata": {},
   "outputs": [
    {
     "name": "stdout",
     "output_type": "stream",
     "text": [
      "['A', 'P', 'O', 'O', 'R', 'V', 'A']\n"
     ]
    }
   ],
   "source": [
    "#list\n",
    "s = \"apoorva\"\n",
    "result = [char.upper() for char in s]\n",
    "print(result)\n",
    "\n",
    "#Strings are immutable, but lists are mutable,Better performance with list than string concatenation in a loop \n"
   ]
  },
  {
   "cell_type": "code",
   "execution_count": 9,
   "id": "1060e597-6492-4f1c-bba0-d1e87ead0735",
   "metadata": {},
   "outputs": [
    {
     "name": "stdout",
     "output_type": "stream",
     "text": [
      "93326215443944152681699238856266700490715968264381621468592963895217599993229915608941463976156518286253697920827223758251185210916864000000000000000000000000\n"
     ]
    }
   ],
   "source": [
    "import math\n",
    "print(math.factorial(100))\n",
    "#Python can compute 100! because it supports arbitrary-precision integers. This means Python automatically increases the size of its integers to hold very large values without causing an overflow. In contrast, many other programming languages like C, C++, and Java use fixed-size integers, such as 32-bit or 64-bit, which cannot store such large numbers and will overflow if you try to calculate something like 100!."
   ]
  },
  {
   "cell_type": "code",
   "execution_count": 10,
   "id": "6fc1e7ee-a9b5-45d9-881d-a2b3d28a8e16",
   "metadata": {},
   "outputs": [
    {
     "name": "stdout",
     "output_type": "stream",
     "text": [
      "😀\n"
     ]
    }
   ],
   "source": [
    "#Way-1 to print character not on the Keyboard\n",
    "import unicodedata\n",
    "omega=unicodedata.lookup('GRINNING FACE')\n",
    "print(omega)"
   ]
  },
  {
   "cell_type": "code",
   "execution_count": 11,
   "id": "4d4dec04-a98a-414e-b956-3bd8c12b4eca",
   "metadata": {},
   "outputs": [
    {
     "name": "stdout",
     "output_type": "stream",
     "text": [
      "I am happy 😀\n"
     ]
    }
   ],
   "source": [
    "#Way-2 to print character not on the Keyboard\n",
    "print('I am happy 😀')"
   ]
  },
  {
   "cell_type": "code",
   "execution_count": 12,
   "id": "df236cdd-e238-43e0-8376-4ccb799cb568",
   "metadata": {},
   "outputs": [
    {
     "name": "stdout",
     "output_type": "stream",
     "text": [
      "Ω\n"
     ]
    }
   ],
   "source": [
    "#Way-3 to print character not on the Keyboard\n",
    "print('\\u2126')  # Ω"
   ]
  },
  {
   "cell_type": "code",
   "execution_count": 13,
   "id": "356c2d66-84b4-4e02-9d5a-e780ab220513",
   "metadata": {},
   "outputs": [
    {
     "name": "stdin",
     "output_type": "stream",
     "text": [
      "Enter your character: h\n"
     ]
    },
    {
     "name": "stdout",
     "output_type": "stream",
     "text": [
      "0x68\n"
     ]
    }
   ],
   "source": [
    "#Printing the value of the character\n",
    "char=input(\"Enter your character:\")\n",
    "print(hex(ord(char)))"
   ]
  },
  {
   "cell_type": "code",
   "execution_count": 17,
   "id": "39c28c34-cc2c-4a6e-977a-8ec5793755fa",
   "metadata": {},
   "outputs": [
    {
     "name": "stdout",
     "output_type": "stream",
     "text": [
      "id of str(0) = 1841992387888\n",
      "id of str(1) = 1841992199728\n",
      "id of str(2) = 1841992199728\n",
      "id of str(3) = 1841992398256\n",
      "id of str(4) = 1841992398256\n",
      "id of str(5) = 1841992199728\n",
      "id of str(6) = 1841992199728\n",
      "id of str(7) = 1841992199728\n",
      "id of str(8) = 1841992199728\n",
      "id of str(9) = 1841992199728\n",
      "0123456789\n"
     ]
    }
   ],
   "source": [
    "#Each iteration creates a new string.High memory usage due to repeated copying.\n",
    "s = \"\"\n",
    "for i in range(10):\n",
    "    s += str(i)\n",
    "    print(f\"id of str({i}) = {id(str(i))}\")\n",
    "\n",
    "print(s[:10])  \n"
   ]
  },
  {
   "cell_type": "code",
   "execution_count": 18,
   "id": "c2ad3b66-c8b9-46c5-b589-2af699cb5c1f",
   "metadata": {},
   "outputs": [
    {
     "name": "stdout",
     "output_type": "stream",
     "text": [
      "Requirement already satisfied: nltk in c:\\users\\lenovo\\appdata\\local\\programs\\python\\python310\\lib\\site-packages (3.9.1)\n",
      "Requirement already satisfied: click in c:\\users\\lenovo\\appdata\\local\\programs\\python\\python310\\lib\\site-packages (from nltk) (8.2.1)\n",
      "Requirement already satisfied: joblib in c:\\users\\lenovo\\appdata\\local\\programs\\python\\python310\\lib\\site-packages (from nltk) (1.4.2)\n",
      "Requirement already satisfied: regex>=2021.8.3 in c:\\users\\lenovo\\appdata\\local\\programs\\python\\python310\\lib\\site-packages (from nltk) (2024.11.6)\n",
      "Requirement already satisfied: tqdm in c:\\users\\lenovo\\appdata\\local\\programs\\python\\python310\\lib\\site-packages (from nltk) (4.67.1)\n",
      "Requirement already satisfied: colorama in c:\\users\\lenovo\\appdata\\local\\programs\\python\\python310\\lib\\site-packages (from click->nltk) (0.4.6)\n",
      "Note: you may need to restart the kernel to use updated packages.\n"
     ]
    },
    {
     "name": "stderr",
     "output_type": "stream",
     "text": [
      "\n",
      "[notice] A new release of pip is available: 24.2 -> 25.1.1\n",
      "[notice] To update, run: python.exe -m pip install --upgrade pip\n"
     ]
    }
   ],
   "source": [
    "pip install nltk"
   ]
  },
  {
   "cell_type": "code",
   "execution_count": null,
   "id": "1275da61-cbdd-4905-867e-531220b3d1b9",
   "metadata": {},
   "outputs": [],
   "source": []
  }
 ],
 "metadata": {
  "kernelspec": {
   "display_name": "Python 3 (ipykernel)",
   "language": "python",
   "name": "python3"
  },
  "language_info": {
   "codemirror_mode": {
    "name": "ipython",
    "version": 3
   },
   "file_extension": ".py",
   "mimetype": "text/x-python",
   "name": "python",
   "nbconvert_exporter": "python",
   "pygments_lexer": "ipython3",
   "version": "3.10.7"
  }
 },
 "nbformat": 4,
 "nbformat_minor": 5
}
