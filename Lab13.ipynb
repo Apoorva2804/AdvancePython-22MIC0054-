{
 "cells": [
  {
   "cell_type": "markdown",
   "id": "4471a956-a24d-42c9-96c8-13d891a9aea8",
   "metadata": {},
   "source": [
    "# LAB 13"
   ]
  },
  {
   "cell_type": "markdown",
   "id": "33218e61-c1f3-4cd1-9801-12d2ffc020f3",
   "metadata": {},
   "source": [
    "# Numpy"
   ]
  },
  {
   "cell_type": "code",
   "execution_count": 12,
   "id": "a37b0b63-2e46-43e5-a138-56734b677c28",
   "metadata": {},
   "outputs": [
    {
     "name": "stdout",
     "output_type": "stream",
     "text": [
      "6\n",
      "(2, 3)\n",
      "2\n"
     ]
    }
   ],
   "source": [
    "import numpy as np\n",
    "arr = np.array([[1, 2, 3], [4, 5, 6]])\n",
    "print(arr.size)\n",
    "print(arr.shape) # (2, 3) → 2 rows, 3 columns\n",
    "print(arr.ndim)#dimension of array"
   ]
  },
  {
   "cell_type": "code",
   "execution_count": 3,
   "id": "f9be37f8-382f-45a3-9f40-690d3b8355ba",
   "metadata": {},
   "outputs": [
    {
     "name": "stdout",
     "output_type": "stream",
     "text": [
      "Original array: [1 2 3 4 5 6]\n",
      "Original shape: (6,)\n",
      "[[1 2 3]\n",
      " [4 5 6]]\n",
      "New shape: (2, 3)\n"
     ]
    }
   ],
   "source": [
    "# Create a 1D array\n",
    "arr = np.array([1, 2, 3, 4, 5, 6])\n",
    "print(\"Original array:\", arr)\n",
    "print(\"Original shape:\", arr.shape)\n",
    "\n",
    "# Reshape to a 2D array (2 rows, 3 columns)\n",
    "reshaped_arr = arr.reshape(2, 3)\n",
    "print(reshaped_arr)\n",
    "print(\"New shape:\", reshaped_arr.shape)"
   ]
  },
  {
   "cell_type": "code",
   "execution_count": 6,
   "id": "07452f51-c57c-4829-9ff9-51638eb5356b",
   "metadata": {},
   "outputs": [
    {
     "name": "stdout",
     "output_type": "stream",
     "text": [
      "[[0. 0. 0.]\n",
      " [0. 0. 0.]]\n"
     ]
    }
   ],
   "source": [
    "a = np.zeros((2, 3))  #Creates an array filled with zeros.\n",
    "print(a)"
   ]
  },
  {
   "cell_type": "code",
   "execution_count": 7,
   "id": "e90d6fae-1f15-4f09-904c-422f442524f7",
   "metadata": {},
   "outputs": [
    {
     "name": "stdout",
     "output_type": "stream",
     "text": [
      "[[1 1]\n",
      " [1 1]\n",
      " [1 1]]\n"
     ]
    }
   ],
   "source": [
    "b = np.ones((3, 2), dtype=int)  #Creates an array filled with ones.\n",
    "print(b)"
   ]
  },
  {
   "cell_type": "code",
   "execution_count": 9,
   "id": "a47b19b6-e102-4efd-83ec-d722ea48a7e6",
   "metadata": {},
   "outputs": [
    {
     "name": "stdout",
     "output_type": "stream",
     "text": [
      "[[0.17124624 0.72070631]\n",
      " [0.09750451 0.79154425]]\n"
     ]
    }
   ],
   "source": [
    "c = np.random.random((2, 2))  #Generates random numbers between 0 and 1\n",
    "print(c)"
   ]
  },
  {
   "cell_type": "code",
   "execution_count": 10,
   "id": "0aa7a0d6-a48a-4a0f-aca1-ec0d49cf034a",
   "metadata": {},
   "outputs": [
    {
     "name": "stdout",
     "output_type": "stream",
     "text": [
      "[[7 9]\n",
      " [2 3]]\n"
     ]
    }
   ],
   "source": [
    "d = np.random.randint(1, 10, (2, 2))  #random numbers from a range\n",
    "print(d)"
   ]
  },
  {
   "cell_type": "code",
   "execution_count": 11,
   "id": "e71654aa-ad2c-44db-9c51-bc22409e07a7",
   "metadata": {},
   "outputs": [
    {
     "name": "stdout",
     "output_type": "stream",
     "text": [
      "[[[0 0 0]\n",
      "  [1 1 1]]\n",
      "\n",
      " [[0 1 2]\n",
      "  [0 1 2]]]\n"
     ]
    }
   ],
   "source": [
    "e = np.indices((2, 3))  #Creates a grid of indices\n",
    "print(e)"
   ]
  },
  {
   "cell_type": "code",
   "execution_count": 16,
   "id": "b3c70ec4-7362-49f4-a9ee-4695a0e8c538",
   "metadata": {},
   "outputs": [
    {
     "name": "stdout",
     "output_type": "stream",
     "text": [
      "[0, 2, 12, 36, 80]\n"
     ]
    }
   ],
   "source": [
    "def pythonsum(n):\n",
    "    a = list(range(n))   # convert to list\n",
    "    b = list(range(n))   # convert to list\n",
    "    c = []\n",
    "    for i in range(n):\n",
    "        a[i] = i ** 2    # square\n",
    "        b[i] = i ** 3    # cube\n",
    "        c.append(a[i] + b[i])  # sum\n",
    "    return c\n",
    "print(pythonsum(5))"
   ]
  },
  {
   "cell_type": "code",
   "execution_count": 18,
   "id": "d02dad52-a9eb-48b0-a9c8-4dad5e06faab",
   "metadata": {},
   "outputs": [
    {
     "name": "stdout",
     "output_type": "stream",
     "text": [
      "[0, 2, 12, 36, 80]\n"
     ]
    }
   ],
   "source": [
    "def pythonsum(n):\n",
    "    a = [0] * n   # list of n zeros\n",
    "    b = [0] * n   # list of n zeros\n",
    "    c = []\n",
    "    for i in range(n):\n",
    "        a[i] = i ** 2   # store square of i\n",
    "        b[i] = i ** 3   # store cube of i\n",
    "        c.append(a[i] + b[i])  # sum of square + cube\n",
    "    return c\n",
    "\n",
    "print(pythonsum(5))"
   ]
  },
  {
   "cell_type": "code",
   "execution_count": 19,
   "id": "5c725947-ec3e-481b-93a8-002db7f8dd6a",
   "metadata": {},
   "outputs": [],
   "source": [
    "import numpy as np\n",
    "def numpysum(n):\n",
    "  a = np.arange(n) ** 2  #Creates an array [0,1,..n-1] and element-wise sqauring\n",
    "  b = np.arange(n) ** 3\n",
    "  c = a + b #element wise adding - NO LOOP Overhead, hence Memory Efficient\n",
    "  return c"
   ]
  },
  {
   "cell_type": "code",
   "execution_count": 20,
   "id": "198ad24e-3903-4462-a8c8-dd9185a7ab4f",
   "metadata": {},
   "outputs": [
    {
     "data": {
      "text/plain": [
       "array([ 0,  2, 12])"
      ]
     },
     "execution_count": 20,
     "metadata": {},
     "output_type": "execute_result"
    }
   ],
   "source": [
    "numpysum(3)"
   ]
  },
  {
   "cell_type": "code",
   "execution_count": 21,
   "id": "77b3b8cf-bdac-41a2-a8c3-01386ef93815",
   "metadata": {},
   "outputs": [],
   "source": [
    "#Creating Arrays from Sequences\n",
    "#a list of numbers will create a 1D array,\n",
    "#a list of lists will create a 2D array,\n",
    "#further nested lists will create higher-dimensional arrays. \n",
    "#In general, any array object is called an ndarray in NumPy."
   ]
  },
  {
   "cell_type": "code",
   "execution_count": 22,
   "id": "214f32ca-c2e2-4db6-882f-7fb9f26efb40",
   "metadata": {},
   "outputs": [],
   "source": [
    "import numpy as np\n",
    "a1D = np.array([1, 2, 3, 4])\n",
    "a2D = np.array([[1, 2], [3, 4]])\n",
    "a3D = np.array([[[1, 2], [3, 4]], [[5, 6], [7, 8]]])"
   ]
  },
  {
   "cell_type": "code",
   "execution_count": 23,
   "id": "48e91d43-3177-46f5-8201-5373bd19c9f1",
   "metadata": {},
   "outputs": [
    {
     "data": {
      "text/plain": [
       "array([127, 128, 129], dtype=int32)"
      ]
     },
     "execution_count": 23,
     "metadata": {},
     "output_type": "execute_result"
    }
   ],
   "source": [
    "import numpy as np\n",
    "np.array([127, 128, 129], dtype=np.int32) "
   ]
  },
  {
   "cell_type": "code",
   "execution_count": 25,
   "id": "5a48dea9-e009-4877-b017-bbf716804a83",
   "metadata": {},
   "outputs": [
    {
     "data": {
      "text/plain": [
       "array([0, 1, 2, 3, 4, 5, 6, 7, 8, 9])"
      ]
     },
     "execution_count": 25,
     "metadata": {},
     "output_type": "execute_result"
    }
   ],
   "source": [
    "#ARRAY CREATION FUNCTIONS\n",
    "import numpy as np\n",
    "np.arange(10) #0 TO BEFORE 10, Step Value 1"
   ]
  },
  {
   "cell_type": "code",
   "execution_count": 27,
   "id": "62d55d54-96d0-4454-9b30-2d7f04d3efca",
   "metadata": {},
   "outputs": [
    {
     "data": {
      "text/plain": [
       "array([2., 3., 4., 5., 6., 7., 8., 9.])"
      ]
     },
     "execution_count": 27,
     "metadata": {},
     "output_type": "execute_result"
    }
   ],
   "source": [
    "np.arange(2, 10, dtype=float) # Creates an array starting from 2.0 up to (but not including) 10.0\n",
    "                              # Default step = 1.0 because dtype=float"
   ]
  },
  {
   "cell_type": "code",
   "execution_count": 28,
   "id": "750978be-369b-4ed3-bd4b-ffad0b71354b",
   "metadata": {},
   "outputs": [
    {
     "data": {
      "text/plain": [
       "array([2. , 2.1, 2.2, 2.3, 2.4, 2.5, 2.6, 2.7, 2.8, 2.9])"
      ]
     },
     "execution_count": 28,
     "metadata": {},
     "output_type": "execute_result"
    }
   ],
   "source": [
    "np.arange(2, 3, 0.1) # Creates an array starting from 2.0 up to (but not including) 3.0\n",
    "                     # Step size = 0.1"
   ]
  },
  {
   "cell_type": "markdown",
   "id": "a5b8548a-e571-4c72-b335-243470a403fa",
   "metadata": {},
   "source": [
    "#best practice for numpy.arange is to use integer start, end, and step values."
   ]
  },
  {
   "cell_type": "code",
   "execution_count": 30,
   "id": "9320775d-e798-4e9a-8ca4-27226bdd265c",
   "metadata": {},
   "outputs": [
    {
     "data": {
      "text/plain": [
       "array([1. , 1.6, 2.2, 2.8, 3.4, 4. ])"
      ]
     },
     "execution_count": 30,
     "metadata": {},
     "output_type": "execute_result"
    }
   ],
   "source": [
    "np.linspace(1., 4., 6)"
   ]
  },
  {
   "cell_type": "code",
   "execution_count": null,
   "id": "73246cd3-f8bb-4484-961c-5c50ed17c6bb",
   "metadata": {},
   "outputs": [],
   "source": [
    "# np.linspace(1.0, 4.0, 6) generates 6 equally spaced values from 1.0 to 4.0 (both included).\n",
    "# It divides the range into 5 equal intervals: [1. , 1.6, 2.2, 2.8, 3.4, 4. ]"
   ]
  },
  {
   "cell_type": "code",
   "execution_count": 6,
   "id": "1f5c90de-8e4c-4c5b-a376-bfd152b2aa5a",
   "metadata": {},
   "outputs": [
    {
     "data": {
      "text/plain": [
       "array([[0. , 1. ],\n",
       "       [0.5, 1. ],\n",
       "       [1. , 1. ],\n",
       "       [1.5, 1. ],\n",
       "       [2. , 1. ]])"
      ]
     },
     "execution_count": 6,
     "metadata": {},
     "output_type": "execute_result"
    }
   ],
   "source": [
    "#Vandermonde Matrix\n",
    "import numpy as np\n",
    "np.vander(np.linspace(0, 2, 5), 2)#Creates 5 values between 0 and 2"
   ]
  },
  {
   "cell_type": "code",
   "execution_count": 7,
   "id": "1190587f-f733-4c87-9342-9df0c23bb976",
   "metadata": {},
   "outputs": [
    {
     "data": {
      "text/plain": [
       "array([[1, 1],\n",
       "       [2, 1],\n",
       "       [3, 1],\n",
       "       [4, 1]])"
      ]
     },
     "execution_count": 7,
     "metadata": {},
     "output_type": "execute_result"
    }
   ],
   "source": [
    "np.vander([1, 2, 3, 4], 2)# Builds a Vandermonde matrix with input [1, 2, 3, 4] and 2 columns"
   ]
  },
  {
   "cell_type": "code",
   "execution_count": 5,
   "id": "13799325-759a-4f58-8624-49004b6b24b5",
   "metadata": {},
   "outputs": [
    {
     "data": {
      "text/plain": [
       "array([[ 1,  1,  1,  1],\n",
       "       [ 8,  4,  2,  1],\n",
       "       [27,  9,  3,  1],\n",
       "       [64, 16,  4,  1]])"
      ]
     },
     "execution_count": 5,
     "metadata": {},
     "output_type": "execute_result"
    }
   ],
   "source": [
    "np.vander((1, 2, 3, 4), 4)# Builds a Vandermonde matrix with input (1,2,3,4) and 4 columns(powers from 3 down to 0)"
   ]
  },
  {
   "cell_type": "markdown",
   "id": "cced267a-cc77-4e91-b362-7fbdd3241699",
   "metadata": {},
   "source": [
    "| Code                                 | Shape    | Meaning                                           |\n",
    "| ------------------------------------ | -------- | ------------------------------------------------- |\n",
    "| `np.vander(np.linspace(0, 2, 5), 2)` | `(5, 2)` | 2-column Vandermonde matrix of `[0, 0.5, ..., 2]` |\n",
    "| `np.vander([1, 2, 3, 4], 2)`         | `(4, 2)` | Powers: `[x, 1]` for each x                       |\n",
    "| `np.vander((1, 2, 3, 4), 4)`         | `(4, 4)` | Powers: `[x**3, x**2, x, 1]`                      |\n"
   ]
  },
  {
   "cell_type": "code",
   "execution_count": null,
   "id": "99676e7e-7856-4f29-b5ae-35e30597374f",
   "metadata": {},
   "outputs": [],
   "source": []
  }
 ],
 "metadata": {
  "kernelspec": {
   "display_name": "Python 3 (ipykernel)",
   "language": "python",
   "name": "python3"
  },
  "language_info": {
   "codemirror_mode": {
    "name": "ipython",
    "version": 3
   },
   "file_extension": ".py",
   "mimetype": "text/x-python",
   "name": "python",
   "nbconvert_exporter": "python",
   "pygments_lexer": "ipython3",
   "version": "3.10.7"
  }
 },
 "nbformat": 4,
 "nbformat_minor": 5
}
