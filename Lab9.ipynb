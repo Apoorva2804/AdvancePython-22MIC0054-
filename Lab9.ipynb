{
 "cells": [
  {
   "cell_type": "code",
   "execution_count": 40,
   "id": "8155574c-9a4c-434a-8459-a1c9a5612a28",
   "metadata": {},
   "outputs": [],
   "source": [
    "#Defining class and variable\n",
    "class Empl:\n",
    "    no_of_employees=0\n",
    "    raise_amount=1.04\n",
    "    def __init__(self,first,last,pay):\n",
    "        self.first=first\n",
    "        self.last=last\n",
    "        self.pay=pay\n",
    "        Empl.no_of_employees += 1\n",
    "    def apply_raise(self):\n",
    "        self.pay=int(self.pay*Empl.raise_amount)"
   ]
  },
  {
   "cell_type": "code",
   "execution_count": 41,
   "id": "1a90fd78-6f95-4a72-8087-7261ab6f8db1",
   "metadata": {},
   "outputs": [
    {
     "name": "stdout",
     "output_type": "stream",
     "text": [
      "<__main__.Empl object at 0x0000020F58320B20>\n"
     ]
    }
   ],
   "source": [
    "e1=Empl(\"Donald\",\"Trump\",500000)#initializing an instance \n",
    "print(e1)"
   ]
  },
  {
   "cell_type": "code",
   "execution_count": 42,
   "id": "ab7e4875-374c-49d9-b107-601165704ab9",
   "metadata": {},
   "outputs": [
    {
     "name": "stdout",
     "output_type": "stream",
     "text": [
      "Donald\n",
      "Trump\n",
      "500000\n"
     ]
    }
   ],
   "source": [
    "print(e1.first)#printing the values of e1\n",
    "print(e1.last)\n",
    "print(e1.pay)"
   ]
  },
  {
   "cell_type": "code",
   "execution_count": 43,
   "id": "609b69c3-38d7-4b5b-9f2e-22f2af4a6db5",
   "metadata": {},
   "outputs": [
    {
     "name": "stdout",
     "output_type": "stream",
     "text": [
      "{'__module__': '__main__', 'no_of_employees': 1, 'raise_amount': 1.04, '__init__': <function Empl.__init__ at 0x0000020F5840BF40>, 'apply_raise': <function Empl.apply_raise at 0x0000020F5840BD00>, '__dict__': <attribute '__dict__' of 'Empl' objects>, '__weakref__': <attribute '__weakref__' of 'Empl' objects>, '__doc__': None}\n"
     ]
    }
   ],
   "source": [
    "print(Empl.__dict__)#namespace for the class"
   ]
  },
  {
   "cell_type": "code",
   "execution_count": 44,
   "id": "ad77da5c-6df1-45bc-a04e-128fcf28f2fe",
   "metadata": {},
   "outputs": [
    {
     "name": "stdout",
     "output_type": "stream",
     "text": [
      "<__main__.Empl object at 0x0000020F58321D20>\n"
     ]
    }
   ],
   "source": [
    "e2=Empl(\"Boe\",\"Ray\",80000)#printing the values of e2\n",
    "print(e2)"
   ]
  },
  {
   "cell_type": "code",
   "execution_count": 45,
   "id": "61e0e7ca-b31b-42d4-a1a2-1ad74b3cf82e",
   "metadata": {},
   "outputs": [
    {
     "name": "stdout",
     "output_type": "stream",
     "text": [
      "1.04\n"
     ]
    }
   ],
   "source": [
    "print(e1.raise_amount)"
   ]
  },
  {
   "cell_type": "code",
   "execution_count": 46,
   "id": "054c5110-bda8-42bd-ab7c-4adc0d685fca",
   "metadata": {},
   "outputs": [
    {
     "name": "stdout",
     "output_type": "stream",
     "text": [
      "{'first': 'Donald', 'last': 'Trump', 'pay': 500000}\n"
     ]
    }
   ],
   "source": [
    "print(e1.__dict__)#namespace for an instance"
   ]
  },
  {
   "cell_type": "code",
   "execution_count": 47,
   "id": "ae471c11-d263-43b5-8c08-1c794a2a38c2",
   "metadata": {},
   "outputs": [],
   "source": [
    "e1.raise_amount=1.06#overwriting the variable of class using its instance"
   ]
  },
  {
   "cell_type": "code",
   "execution_count": 48,
   "id": "b133ceab-909b-463d-ab06-0e9ce570aec6",
   "metadata": {},
   "outputs": [
    {
     "name": "stdout",
     "output_type": "stream",
     "text": [
      "1.04\n",
      "1.06\n"
     ]
    }
   ],
   "source": [
    "print(Empl.raise_amount)#Checking the value of raise_amount in the scope of class\n",
    "print(e1.raise_amount)##Checking the value of raise_amount in the scope of instance"
   ]
  },
  {
   "cell_type": "code",
   "execution_count": 49,
   "id": "eb6a0160-3b97-4ec3-af6a-284dba6a1409",
   "metadata": {},
   "outputs": [
    {
     "name": "stdout",
     "output_type": "stream",
     "text": [
      "2\n"
     ]
    }
   ],
   "source": [
    "print(Empl.no_of_employees)#printing the count of instances created till now"
   ]
  },
  {
   "cell_type": "markdown",
   "id": "23d5338b-36d2-4e84-9963-8e9c04207e24",
   "metadata": {},
   "source": [
    "# Inheritance"
   ]
  },
  {
   "cell_type": "code",
   "execution_count": 50,
   "id": "b4a23d84-a49d-41c2-8ed2-2f818953e28d",
   "metadata": {},
   "outputs": [
    {
     "name": "stdout",
     "output_type": "stream",
     "text": [
      "Hello from Parent\n"
     ]
    }
   ],
   "source": [
    "class Parent:\n",
    "    def greet(self):\n",
    "        print(\"Hello from Parent\")\n",
    "class Child(Parent):#Inheritance from parent class\n",
    "    pass\n",
    "obj=Child()\n",
    "obj.greet() #calling the method from parent"
   ]
  },
  {
   "cell_type": "code",
   "execution_count": 57,
   "id": "a831cfcd-7883-4ae2-b077-eb56d8525a69",
   "metadata": {},
   "outputs": [
    {
     "name": "stdout",
     "output_type": "stream",
     "text": [
      "Hello from Parent\n",
      "Hello from Child\n"
     ]
    }
   ],
   "source": [
    "#Using super() to call parent's method\n",
    "class Parent:\n",
    "    def greet(self):\n",
    "        print(\"Hello from Parent\")\n",
    "class Child(Parent):\n",
    "    def greet(self):\n",
    "        super().greet() #call's Parent's greet\n",
    "        print(\"Hello from Child\")\n",
    "obj=Child()#creating an object\n",
    "obj.greet()   "
   ]
  },
  {
   "cell_type": "code",
   "execution_count": 56,
   "id": "4fc6168e-b853-4881-9420-b8484347309c",
   "metadata": {},
   "outputs": [
    {
     "name": "stdout",
     "output_type": "stream",
     "text": [
      "The raise is applied\n"
     ]
    }
   ],
   "source": [
    "class Empl:\n",
    "    def raise_amount(self):\n",
    "        print(\"The raise is applied\")\n",
    "\n",
    "class Worker(Empl):\n",
    "    def raise_amount(self):\n",
    "        super().raise_amount()  # Call parent class method\n",
    "\n",
    "obj = Worker()#creating an object\n",
    "# Call the raise_amount() method on Worker object\n",
    "# This will first look in Worker, find it there,and then inside Worker it calls Empl's version via super()\n",
    "obj.raise_amount()\n",
    "\n",
    "    "
   ]
  },
  {
   "cell_type": "markdown",
   "id": "21a9e5f9-6126-4837-963e-52c7c9a0402b",
   "metadata": {},
   "source": [
    "# Multiple Inheritence"
   ]
  },
  {
   "cell_type": "code",
   "execution_count": 60,
   "id": "58a0a51f-9c6c-4985-8159-8440ceb53485",
   "metadata": {},
   "outputs": [
    {
     "name": "stdout",
     "output_type": "stream",
     "text": [
      "Hello from A\n",
      "Hello from B\n"
     ]
    }
   ],
   "source": [
    "class A:\n",
    "    def method_a(self):#defining method under class A\n",
    "        print(\"Hello from A\")\n",
    "class B:\n",
    "    def method_b(self):#defining method under class B\n",
    "        print(\"Hello from B\")\n",
    "class C(A,B):#class C inherits from both A and B\n",
    "    pass\n",
    "obj = C()#creating an object for class C\n",
    "obj.method_a()#calling method from A\n",
    "obj.method_b()#calling method from B"
   ]
  },
  {
   "cell_type": "code",
   "execution_count": 61,
   "id": "15340bfd-b6d1-437b-ada6-92399d43d19e",
   "metadata": {},
   "outputs": [
    {
     "name": "stdout",
     "output_type": "stream",
     "text": [
      "Person initialized\n",
      "Employee initialized\n",
      "Manager initialized\n",
      "\n",
      "Manager Details\n",
      "Name: Apoorva\n",
      "Employee ID: E101\n",
      "Department: HR\n"
     ]
    }
   ],
   "source": [
    "class Person:\n",
    "    def __init__(self, name):\n",
    "        self.name = name\n",
    "        print(\"Person initialized\")\n",
    "\n",
    "    def show_info(self):\n",
    "        print(f\"Name: {self.name}\")\n",
    "\n",
    "class Employee:\n",
    "    def __init__(self, emp_id):\n",
    "        self.emp_id = emp_id\n",
    "        print(\"Employee initialized\")\n",
    "\n",
    "    def show_info(self):\n",
    "        print(f\"Employee ID: {self.emp_id}\")\n",
    "\n",
    "# Child class inheriting from both Person and Employee\n",
    "class Manager(Person, Employee):\n",
    "    def __init__(self, name, emp_id, dept):\n",
    "        super().__init__(name)  \n",
    "        Employee.__init__(self, emp_id)  # Explicitly call Employee init\n",
    "        self.dept = dept\n",
    "        print(\"Manager initialized\")\n",
    "\n",
    "    def show_info(self):\n",
    "        super().show_info()\n",
    "        Employee.show_info(self)\n",
    "        print(f\"Department: {self.dept}\")\n",
    "\n",
    "# Create Manager object\n",
    "mgr = Manager(\"Apoorva\", \"E101\", \"HR\")\n",
    "\n",
    "print(\"\\nManager Details\")\n",
    "mgr.show_info()\n"
   ]
  },
  {
   "cell_type": "code",
   "execution_count": 70,
   "id": "934cfc8f-85b6-426e-b9fa-7b51cd84a5d3",
   "metadata": {},
   "outputs": [],
   "source": [
    "class Contact:\n",
    "    # Class variable to store all created Contact objects\n",
    "    all_contacts = []\n",
    "\n",
    "    def __init__(self, name, email):\n",
    "        # Instance variables\n",
    "        self.name = name\n",
    "        self.email = email\n",
    "        \n",
    "    \n",
    "        Contact.all_contacts.append(self)\n"
   ]
  },
  {
   "cell_type": "code",
   "execution_count": 66,
   "id": "f1b85c66-a2ac-4dde-aebf-1e28cce34df7",
   "metadata": {},
   "outputs": [],
   "source": [
    "# Supplier inherits from Contact\n",
    "class Supplier(Contact):\n",
    "    # Method to place an order\n",
    "    def order(self, order):\n",
    "        # {} placeholders are replaced with order and self.name\n",
    "        print(\"send {} order to {}\".format(order, self.name))\n"
   ]
  },
  {
   "cell_type": "code",
   "execution_count": 67,
   "id": "05cd6b9b-ee42-4c8e-8e5e-cc6f8e3b1fd7",
   "metadata": {},
   "outputs": [
    {
     "name": "stdout",
     "output_type": "stream",
     "text": [
      "Some Body somebody@example.net Apoorva apoorva@example.net\n"
     ]
    }
   ],
   "source": [
    "c=Contact(\"Some Body\",\"somebody@example.net\")#creating object for Contact\n",
    "s=Supplier(\"Apoorva\",\"apoorva@example.net\")#Cretaing object for Supplier\n",
    "print(c.name,c.email,s.name,s.email)"
   ]
  },
  {
   "cell_type": "code",
   "execution_count": 71,
   "id": "a7ee16cb-1288-4dd4-a61a-f87e5f75d175",
   "metadata": {},
   "outputs": [
    {
     "data": {
      "text/plain": [
       "[<__main__.Contact at 0x20f580fae90>, <__main__.Supplier at 0x20f580fe260>]"
      ]
     },
     "execution_count": 71,
     "metadata": {},
     "output_type": "execute_result"
    }
   ],
   "source": [
    "c.all_contacts#Showing all objects created in the memory"
   ]
  },
  {
   "cell_type": "code",
   "execution_count": 69,
   "id": "794e2935-0232-477a-9b53-e6ed81e1296e",
   "metadata": {},
   "outputs": [
    {
     "ename": "AttributeError",
     "evalue": "'Contact' object has no attribute 'order'",
     "output_type": "error",
     "traceback": [
      "\u001b[1;31m---------------------------------------------------------------------------\u001b[0m",
      "\u001b[1;31mAttributeError\u001b[0m                            Traceback (most recent call last)",
      "Cell \u001b[1;32mIn[69], line 1\u001b[0m\n\u001b[1;32m----> 1\u001b[0m \u001b[43mc\u001b[49m\u001b[38;5;241;43m.\u001b[39;49m\u001b[43morder\u001b[49m(\u001b[38;5;124m\"\u001b[39m\u001b[38;5;124mI need pliers\u001b[39m\u001b[38;5;124m\"\u001b[39m)\n",
      "\u001b[1;31mAttributeError\u001b[0m: 'Contact' object has no attribute 'order'"
     ]
    }
   ],
   "source": [
    "c.order(\"I need pliers\")#inheritence is unidirectional"
   ]
  },
  {
   "cell_type": "code",
   "execution_count": 72,
   "id": "29110378-c0b4-48c9-bdce-b774630e4604",
   "metadata": {},
   "outputs": [],
   "source": [
    "# Extends the built-in list class to add extra functionality\n",
    "class ContactList(list):\n",
    "    \n",
    "    def search(self, name):\n",
    "        \"\"\"Return all contacts that contain the search value in their name.\"\"\"\n",
    "        \n",
    "        # List to store contacts whose name matches the search\n",
    "        matching_contacts = []\n",
    "        \n",
    "        # Loop through all contacts in this ContactList\n",
    "        for contact in self:\n",
    "            # Check if the search string exists within the contact's name\n",
    "            if name in contact.name:\n",
    "                # If match found, add contact to matching_contacts list\n",
    "                matching_contacts.append(contact)\n",
    "        \n",
    "        # Return the list of matched contacts\n",
    "        return matching_contacts\n"
   ]
  },
  {
   "cell_type": "code",
   "execution_count": 73,
   "id": "7c86a788-b7ed-4b87-879e-43034778f1ce",
   "metadata": {},
   "outputs": [
    {
     "name": "stdout",
     "output_type": "stream",
     "text": [
      "['John A', 'John B']\n"
     ]
    }
   ],
   "source": [
    "# Contact class\n",
    "class Contact:\n",
    "    # Class variable\n",
    "    all_contacts = ContactList()\n",
    "\n",
    "    def __init__(self, name, email):\n",
    "        # Instance variables\n",
    "        self.name = name\n",
    "        self.email = email\n",
    "        \n",
    "        self.all_contacts.append(self)\n",
    "\n",
    "# Create Contact objects\n",
    "c1 = Contact(\"John A\", \"johna@example.net\")\n",
    "c2 = Contact(\"John B\", \"johnb@example.net\")\n",
    "c3 = Contact(\"Jenna C\", \"jennac@example.net\")\n",
    "\n",
    "# Search for all contacts whose name contains \"John\"\n",
    "# This uses ContactList.search() to find matches\n",
    "result_names = [c.name for c in Contact.all_contacts.search('John')]\n",
    "\n",
    "print(result_names)  \n"
   ]
  },
  {
   "cell_type": "code",
   "execution_count": 78,
   "id": "d69cc840-2ce0-4470-891d-747b7ae91bad",
   "metadata": {},
   "outputs": [
    {
     "name": "stdout",
     "output_type": "stream",
     "text": [
      "John A,johna@example.net\n",
      "John B,johnb@example.net\n",
      "Jenna C,jennac@example.net\n",
      "Alice D,alice@example.com\n",
      "Bob E,bob@example.com\n",
      "Charlie F,charlie@example.com\n",
      "\n"
     ]
    }
   ],
   "source": [
    "with open(r\"D:\\Apoo\\contact.txt\", \"r\") as f:\n",
    "    print(f.read())\n"
   ]
  },
  {
   "cell_type": "code",
   "execution_count": 80,
   "id": "3a73b579-ee3f-41f0-9998-879b508e684b",
   "metadata": {},
   "outputs": [
    {
     "name": "stdout",
     "output_type": "stream",
     "text": [
      "Total contacts created: 6\n",
      "Contacts matching 'John': ['John A', 'John B']\n"
     ]
    }
   ],
   "source": [
    "# Step 1: Custom ContactList class with search functionality\n",
    "class ContactList(list):\n",
    "    def search(self, name):\n",
    "        \"\"\"Return all contacts that contain the search value in their name.\"\"\"\n",
    "        matching_contacts = []\n",
    "        for contact in self:\n",
    "            if name in contact.name:\n",
    "                matching_contacts.append(contact)\n",
    "        return matching_contacts\n",
    "\n",
    "\n",
    "# Step 2: Contact class that stores all created contacts\n",
    "class Contact:\n",
    "    all_contacts = ContactList()\n",
    "\n",
    "    def __init__(self, name, email):\n",
    "        self.name = name\n",
    "        self.email = email\n",
    "        Contact.all_contacts.append(self)\n",
    "\n",
    "\n",
    "# Step 3: Read data from file and create Contact objects\n",
    "# Example file format (contacts.txt):\n",
    "# John A,johna@example.net\n",
    "# John B,johnb@example.net\n",
    "# Jenna C,jennac@example.net\n",
    "\n",
    "with open(\"D:\\Apoo\\contact.txt\", \"r\") as f:\n",
    "    for line in f:\n",
    "        name, email = line.strip().split(\",\")\n",
    "        Contact(name, email)  # Creates a Contact object for each line\n",
    "\n",
    "\n",
    "# Step 4: Count how many Contact objects were created\n",
    "count = len(Contact.all_contacts)\n",
    "print(f\"Total contacts created: {count}\")\n",
    "\n",
    "# Step 5: Optional - Search for a name\n",
    "matches = Contact.all_contacts.search(\"John\")\n",
    "print(f\"Contacts matching 'John': {[c.name for c in matches]}\")\n"
   ]
  },
  {
   "cell_type": "code",
   "execution_count": null,
   "id": "60c95e2c-00d4-4106-b8f9-0235398167a2",
   "metadata": {},
   "outputs": [],
   "source": []
  }
 ],
 "metadata": {
  "kernelspec": {
   "display_name": "Python 3 (ipykernel)",
   "language": "python",
   "name": "python3"
  },
  "language_info": {
   "codemirror_mode": {
    "name": "ipython",
    "version": 3
   },
   "file_extension": ".py",
   "mimetype": "text/x-python",
   "name": "python",
   "nbconvert_exporter": "python",
   "pygments_lexer": "ipython3",
   "version": "3.10.7"
  }
 },
 "nbformat": 4,
 "nbformat_minor": 5
}
